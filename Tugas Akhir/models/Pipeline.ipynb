{
 "cells": [
  {
   "cell_type": "markdown",
   "metadata": {},
   "source": [
    "# Model Pipeline"
   ]
  },
  {
   "cell_type": "markdown",
   "metadata": {},
   "source": [
    "This notebook is used for training candidate models for air quality dataset."
   ]
  },
  {
   "cell_type": "code",
   "execution_count": 2,
   "metadata": {},
   "outputs": [],
   "source": [
    "MODEL_NAME = 'baseline'"
   ]
  },
  {
   "cell_type": "markdown",
   "metadata": {},
   "source": [
    "## Modules"
   ]
  },
  {
   "cell_type": "code",
   "execution_count": 1,
   "metadata": {},
   "outputs": [
    {
     "name": "stderr",
     "output_type": "stream",
     "text": [
      "Using TensorFlow backend.\n"
     ]
    }
   ],
   "source": [
    "import numpy as np\n",
    "import pandas as pd\n",
    "\n",
    "from keras.models import Sequential\n",
    "from keras.layers import Dense\n",
    "from keras.wrappers.scikit_learn import KerasRegressor\n",
    "from sklearn.base import BaseEstimator, TransformerMixin\n",
    "from sklearn.model_selection import cross_val_score\n",
    "from sklearn.model_selection import KFold\n",
    "from sklearn.preprocessing import StandardScaler\n",
    "from sklearn.pipeline import Pipeline"
   ]
  },
  {
   "cell_type": "markdown",
   "metadata": {},
   "source": [
    "## Ensuring reproducibility"
   ]
  },
  {
   "cell_type": "code",
   "execution_count": 3,
   "metadata": {},
   "outputs": [],
   "source": [
    "CUSTOM_SEED = 42\n",
    "np.random.seed(CUSTOM_SEED)"
   ]
  },
  {
   "cell_type": "markdown",
   "metadata": {},
   "source": [
    "## Load Dataset"
   ]
  },
  {
   "cell_type": "code",
   "execution_count": 4,
   "metadata": {},
   "outputs": [
    {
     "name": "stderr",
     "output_type": "stream",
     "text": [
      "C:\\Users\\Admin\\Anaconda3\\lib\\site-packages\\IPython\\core\\interactiveshell.py:3058: DtypeWarning: Columns (0,1,2,3,4,5,6,7,8,9,10,11,12,13,14,16) have mixed types. Specify dtype option on import or set low_memory=False.\n",
      "  interactivity=interactivity, compiler=compiler, result=result)\n"
     ]
    },
    {
     "data": {
      "text/html": [
       "<div>\n",
       "<style scoped>\n",
       "    .dataframe tbody tr th:only-of-type {\n",
       "        vertical-align: middle;\n",
       "    }\n",
       "\n",
       "    .dataframe tbody tr th {\n",
       "        vertical-align: top;\n",
       "    }\n",
       "\n",
       "    .dataframe thead th {\n",
       "        text-align: right;\n",
       "    }\n",
       "</style>\n",
       "<table border=\"1\" class=\"dataframe\">\n",
       "  <thead>\n",
       "    <tr style=\"text-align: right;\">\n",
       "      <th></th>\n",
       "      <th>No</th>\n",
       "      <th>year</th>\n",
       "      <th>month</th>\n",
       "      <th>day</th>\n",
       "      <th>hour</th>\n",
       "      <th>PM2.5</th>\n",
       "      <th>PM10</th>\n",
       "      <th>SO2</th>\n",
       "      <th>NO2</th>\n",
       "      <th>CO</th>\n",
       "      <th>O3</th>\n",
       "      <th>TEMP</th>\n",
       "      <th>PRES</th>\n",
       "      <th>DEWP</th>\n",
       "      <th>RAIN</th>\n",
       "      <th>wd</th>\n",
       "      <th>WSPM</th>\n",
       "      <th>station</th>\n",
       "    </tr>\n",
       "  </thead>\n",
       "  <tbody>\n",
       "    <tr>\n",
       "      <td>0</td>\n",
       "      <td>5844</td>\n",
       "      <td>2013</td>\n",
       "      <td>10</td>\n",
       "      <td>30</td>\n",
       "      <td>11</td>\n",
       "      <td>41</td>\n",
       "      <td>49</td>\n",
       "      <td>19</td>\n",
       "      <td>51.1197</td>\n",
       "      <td>700</td>\n",
       "      <td>6</td>\n",
       "      <td>13.2</td>\n",
       "      <td>1022.4</td>\n",
       "      <td>-0.1</td>\n",
       "      <td>0</td>\n",
       "      <td>NE</td>\n",
       "      <td>1.4</td>\n",
       "      <td>Wanliu</td>\n",
       "    </tr>\n",
       "    <tr>\n",
       "      <td>1</td>\n",
       "      <td>27824</td>\n",
       "      <td>2016</td>\n",
       "      <td>5</td>\n",
       "      <td>3</td>\n",
       "      <td>7</td>\n",
       "      <td>15</td>\n",
       "      <td>26</td>\n",
       "      <td>2</td>\n",
       "      <td>11</td>\n",
       "      <td>300</td>\n",
       "      <td>72</td>\n",
       "      <td>15.5</td>\n",
       "      <td>993.5</td>\n",
       "      <td>-1.1</td>\n",
       "      <td>0</td>\n",
       "      <td>NW</td>\n",
       "      <td>3.7</td>\n",
       "      <td>Dingling</td>\n",
       "    </tr>\n",
       "    <tr>\n",
       "      <td>2</td>\n",
       "      <td>25841</td>\n",
       "      <td>2016</td>\n",
       "      <td>2</td>\n",
       "      <td>10</td>\n",
       "      <td>16</td>\n",
       "      <td>95</td>\n",
       "      <td>95</td>\n",
       "      <td>59</td>\n",
       "      <td>46</td>\n",
       "      <td>3100</td>\n",
       "      <td>61</td>\n",
       "      <td>9.3</td>\n",
       "      <td>1012.4</td>\n",
       "      <td>-12.6</td>\n",
       "      <td>0</td>\n",
       "      <td>ESE</td>\n",
       "      <td>1.4</td>\n",
       "      <td>Shunyi</td>\n",
       "    </tr>\n",
       "    <tr>\n",
       "      <td>3</td>\n",
       "      <td>26986</td>\n",
       "      <td>2016</td>\n",
       "      <td>3</td>\n",
       "      <td>29</td>\n",
       "      <td>9</td>\n",
       "      <td>10</td>\n",
       "      <td>36</td>\n",
       "      <td>12</td>\n",
       "      <td>34</td>\n",
       "      <td>500</td>\n",
       "      <td>45</td>\n",
       "      <td>15.7</td>\n",
       "      <td>1014.6</td>\n",
       "      <td>-6</td>\n",
       "      <td>0</td>\n",
       "      <td>WNW</td>\n",
       "      <td>0.8</td>\n",
       "      <td>Aotizhongxin</td>\n",
       "    </tr>\n",
       "    <tr>\n",
       "      <td>4</td>\n",
       "      <td>23848</td>\n",
       "      <td>2015</td>\n",
       "      <td>11</td>\n",
       "      <td>19</td>\n",
       "      <td>15</td>\n",
       "      <td>49</td>\n",
       "      <td>49</td>\n",
       "      <td>2</td>\n",
       "      <td>40</td>\n",
       "      <td>1700</td>\n",
       "      <td>2</td>\n",
       "      <td>4.6</td>\n",
       "      <td>1019.2</td>\n",
       "      <td>4</td>\n",
       "      <td>0.3</td>\n",
       "      <td>W</td>\n",
       "      <td>0.9</td>\n",
       "      <td>Wanliu</td>\n",
       "    </tr>\n",
       "    <tr>\n",
       "      <td>...</td>\n",
       "      <td>...</td>\n",
       "      <td>...</td>\n",
       "      <td>...</td>\n",
       "      <td>...</td>\n",
       "      <td>...</td>\n",
       "      <td>...</td>\n",
       "      <td>...</td>\n",
       "      <td>...</td>\n",
       "      <td>...</td>\n",
       "      <td>...</td>\n",
       "      <td>...</td>\n",
       "      <td>...</td>\n",
       "      <td>...</td>\n",
       "      <td>...</td>\n",
       "      <td>...</td>\n",
       "      <td>...</td>\n",
       "      <td>...</td>\n",
       "      <td>...</td>\n",
       "    </tr>\n",
       "    <tr>\n",
       "      <td>378697</td>\n",
       "      <td>7768</td>\n",
       "      <td>2014</td>\n",
       "      <td>1</td>\n",
       "      <td>18</td>\n",
       "      <td>15</td>\n",
       "      <td>105</td>\n",
       "      <td>112</td>\n",
       "      <td>38</td>\n",
       "      <td>77</td>\n",
       "      <td>1600</td>\n",
       "      <td>43</td>\n",
       "      <td>4.6</td>\n",
       "      <td>1027.4</td>\n",
       "      <td>-13.8</td>\n",
       "      <td>0</td>\n",
       "      <td>SSE</td>\n",
       "      <td>2.3</td>\n",
       "      <td>Nongzhanguan</td>\n",
       "    </tr>\n",
       "    <tr>\n",
       "      <td>378698</td>\n",
       "      <td>19377</td>\n",
       "      <td>2015</td>\n",
       "      <td>5</td>\n",
       "      <td>17</td>\n",
       "      <td>8</td>\n",
       "      <td>123</td>\n",
       "      <td>139</td>\n",
       "      <td>15</td>\n",
       "      <td>33</td>\n",
       "      <td>900</td>\n",
       "      <td>68</td>\n",
       "      <td>20.4</td>\n",
       "      <td>996.6</td>\n",
       "      <td>15</td>\n",
       "      <td>0</td>\n",
       "      <td>S</td>\n",
       "      <td>2.2</td>\n",
       "      <td>Dongsi</td>\n",
       "    </tr>\n",
       "    <tr>\n",
       "      <td>378699</td>\n",
       "      <td>17453</td>\n",
       "      <td>2015</td>\n",
       "      <td>2</td>\n",
       "      <td>26</td>\n",
       "      <td>4</td>\n",
       "      <td>8</td>\n",
       "      <td>12</td>\n",
       "      <td>2</td>\n",
       "      <td>11</td>\n",
       "      <td>400</td>\n",
       "      <td>NaN</td>\n",
       "      <td>-1.1</td>\n",
       "      <td>1021.1</td>\n",
       "      <td>-20.2</td>\n",
       "      <td>0</td>\n",
       "      <td>N</td>\n",
       "      <td>2.2</td>\n",
       "      <td>Aotizhongxin</td>\n",
       "    </tr>\n",
       "    <tr>\n",
       "      <td>378700</td>\n",
       "      <td>4995</td>\n",
       "      <td>2013</td>\n",
       "      <td>9</td>\n",
       "      <td>25</td>\n",
       "      <td>2</td>\n",
       "      <td>3</td>\n",
       "      <td>8</td>\n",
       "      <td>2</td>\n",
       "      <td>24</td>\n",
       "      <td>200</td>\n",
       "      <td>46</td>\n",
       "      <td>9.2</td>\n",
       "      <td>1019</td>\n",
       "      <td>2.5</td>\n",
       "      <td>0</td>\n",
       "      <td>W</td>\n",
       "      <td>0.9</td>\n",
       "      <td>Nongzhanguan</td>\n",
       "    </tr>\n",
       "    <tr>\n",
       "      <td>378701</td>\n",
       "      <td>13263</td>\n",
       "      <td>2014</td>\n",
       "      <td>9</td>\n",
       "      <td>4</td>\n",
       "      <td>14</td>\n",
       "      <td>NaN</td>\n",
       "      <td>70</td>\n",
       "      <td>5</td>\n",
       "      <td>44</td>\n",
       "      <td>700</td>\n",
       "      <td>149</td>\n",
       "      <td>33.9</td>\n",
       "      <td>999.4</td>\n",
       "      <td>12.8</td>\n",
       "      <td>0</td>\n",
       "      <td>WSW</td>\n",
       "      <td>3.1</td>\n",
       "      <td>Shunyi</td>\n",
       "    </tr>\n",
       "  </tbody>\n",
       "</table>\n",
       "<p>378702 rows × 18 columns</p>\n",
       "</div>"
      ],
      "text/plain": [
       "           No  year month day hour PM2.5 PM10 SO2      NO2    CO   O3  TEMP  \\\n",
       "0        5844  2013    10  30   11    41   49  19  51.1197   700    6  13.2   \n",
       "1       27824  2016     5   3    7    15   26   2       11   300   72  15.5   \n",
       "2       25841  2016     2  10   16    95   95  59       46  3100   61   9.3   \n",
       "3       26986  2016     3  29    9    10   36  12       34   500   45  15.7   \n",
       "4       23848  2015    11  19   15    49   49   2       40  1700    2   4.6   \n",
       "...       ...   ...   ...  ..  ...   ...  ...  ..      ...   ...  ...   ...   \n",
       "378697   7768  2014     1  18   15   105  112  38       77  1600   43   4.6   \n",
       "378698  19377  2015     5  17    8   123  139  15       33   900   68  20.4   \n",
       "378699  17453  2015     2  26    4     8   12   2       11   400  NaN  -1.1   \n",
       "378700   4995  2013     9  25    2     3    8   2       24   200   46   9.2   \n",
       "378701  13263  2014     9   4   14   NaN   70   5       44   700  149  33.9   \n",
       "\n",
       "          PRES   DEWP RAIN   wd WSPM       station  \n",
       "0       1022.4   -0.1    0   NE  1.4        Wanliu  \n",
       "1        993.5   -1.1    0   NW  3.7      Dingling  \n",
       "2       1012.4  -12.6    0  ESE  1.4        Shunyi  \n",
       "3       1014.6     -6    0  WNW  0.8  Aotizhongxin  \n",
       "4       1019.2      4  0.3    W  0.9        Wanliu  \n",
       "...        ...    ...  ...  ...  ...           ...  \n",
       "378697  1027.4  -13.8    0  SSE  2.3  Nongzhanguan  \n",
       "378698   996.6     15    0    S  2.2        Dongsi  \n",
       "378699  1021.1  -20.2    0    N  2.2  Aotizhongxin  \n",
       "378700    1019    2.5    0    W  0.9  Nongzhanguan  \n",
       "378701   999.4   12.8    0  WSW  3.1        Shunyi  \n",
       "\n",
       "[378702 rows x 18 columns]"
      ]
     },
     "execution_count": 4,
     "metadata": {},
     "output_type": "execute_result"
    }
   ],
   "source": [
    "path = '../dataset/Air quality/'\n",
    "names = [\"No\",  \"year\",  \"month\",  \"day\",  \"hour\",  \"PM2.5\",  \"PM10\",  \"SO2\",  \"NO2\",  \"CO\",  \"O3\",  \"TEMP\",  \"PRES\",  \"DEWP\",  \"RAIN\",  \"wd\",  \"WSPM\",  \"station\"]\n",
    "dataset = pd.read_csv(path + 'Air quality.csv',  names=names)\n",
    "dataset"
   ]
  },
  {
   "cell_type": "markdown",
   "metadata": {},
   "source": [
    "## Load Models"
   ]
  },
  {
   "cell_type": "markdown",
   "metadata": {},
   "source": [
    "Please copy your models here as a function."
   ]
  },
  {
   "cell_type": "code",
   "execution_count": 2,
   "metadata": {},
   "outputs": [],
   "source": [
    "# define base model\n",
    "def baseline_model():\n",
    "    # create model\n",
    "    model = Sequential()\n",
    "    model.add(Dense(13, input_dim=13, kernel_initializer='normal', activation='relu'))\n",
    "    model.add(Dense(1, kernel_initializer='normal'))\n",
    "    # Compile model\n",
    "    model.compile(loss='mean_squared_error', optimizer='adam')\n",
    "    return model"
   ]
  },
  {
   "cell_type": "code",
   "execution_count": 3,
   "metadata": {
    "scrolled": true
   },
   "outputs": [
    {
     "name": "stdout",
     "output_type": "stream",
     "text": [
      "WARNING:tensorflow:From C:\\Users\\Admin\\Anaconda3\\lib\\site-packages\\tensorflow\\python\\framework\\op_def_library.py:263: colocate_with (from tensorflow.python.framework.ops) is deprecated and will be removed in a future version.\n",
      "Instructions for updating:\n",
      "Colocations handled automatically by placer.\n"
     ]
    },
    {
     "data": {
      "text/plain": [
       "<keras.engine.sequential.Sequential at 0x1b97162ea58>"
      ]
     },
     "execution_count": 3,
     "metadata": {},
     "output_type": "execute_result"
    }
   ],
   "source": [
    "baseline_model()"
   ]
  },
  {
   "cell_type": "markdown",
   "metadata": {},
   "source": [
    "## Preprocessing"
   ]
  },
  {
   "cell_type": "code",
   "execution_count": null,
   "metadata": {},
   "outputs": [],
   "source": []
  }
 ],
 "metadata": {
  "kernelspec": {
   "display_name": "Python 3",
   "language": "python",
   "name": "python3"
  },
  "language_info": {
   "codemirror_mode": {
    "name": "ipython",
    "version": 3
   },
   "file_extension": ".py",
   "mimetype": "text/x-python",
   "name": "python",
   "nbconvert_exporter": "python",
   "pygments_lexer": "ipython3",
   "version": "3.7.1"
  }
 },
 "nbformat": 4,
 "nbformat_minor": 2
}
