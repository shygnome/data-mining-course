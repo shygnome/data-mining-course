{
 "cells": [
  {
   "cell_type": "markdown",
   "metadata": {},
   "source": [
    "# Exploratory Data Analysis"
   ]
  },
  {
   "cell_type": "code",
   "execution_count": 4,
   "metadata": {},
   "outputs": [],
   "source": [
    "import numpy as np\n",
    "import pandas as pd\n",
    "import os\n",
    "import time"
   ]
  },
  {
   "cell_type": "markdown",
   "metadata": {},
   "source": [
    "## Ensuring reproducibility"
   ]
  },
  {
   "cell_type": "code",
   "execution_count": 5,
   "metadata": {},
   "outputs": [],
   "source": [
    "CUSTOM_SEED = 42\n",
    "np.random.seed(CUSTOM_SEED)"
   ]
  },
  {
   "cell_type": "markdown",
   "metadata": {},
   "source": [
    "## Read Dataset"
   ]
  },
  {
   "cell_type": "code",
   "execution_count": 6,
   "metadata": {},
   "outputs": [
    {
     "data": {
      "text/html": [
       "<div>\n",
       "<style scoped>\n",
       "    .dataframe tbody tr th:only-of-type {\n",
       "        vertical-align: middle;\n",
       "    }\n",
       "\n",
       "    .dataframe tbody tr th {\n",
       "        vertical-align: top;\n",
       "    }\n",
       "\n",
       "    .dataframe thead th {\n",
       "        text-align: right;\n",
       "    }\n",
       "</style>\n",
       "<table border=\"1\" class=\"dataframe\">\n",
       "  <thead>\n",
       "    <tr style=\"text-align: right;\">\n",
       "      <th></th>\n",
       "      <th>No</th>\n",
       "      <th>year</th>\n",
       "      <th>month</th>\n",
       "      <th>day</th>\n",
       "      <th>hour</th>\n",
       "      <th>PM2.5</th>\n",
       "      <th>PM10</th>\n",
       "      <th>SO2</th>\n",
       "      <th>NO2</th>\n",
       "      <th>CO</th>\n",
       "      <th>O3</th>\n",
       "      <th>TEMP</th>\n",
       "      <th>PRES</th>\n",
       "      <th>DEWP</th>\n",
       "      <th>RAIN</th>\n",
       "      <th>wd</th>\n",
       "      <th>WSPM</th>\n",
       "      <th>station</th>\n",
       "    </tr>\n",
       "  </thead>\n",
       "  <tbody>\n",
       "    <tr>\n",
       "      <td>0</td>\n",
       "      <td>5844</td>\n",
       "      <td>2013</td>\n",
       "      <td>10</td>\n",
       "      <td>30</td>\n",
       "      <td>11</td>\n",
       "      <td>41</td>\n",
       "      <td>49</td>\n",
       "      <td>19</td>\n",
       "      <td>51.1197</td>\n",
       "      <td>700</td>\n",
       "      <td>6</td>\n",
       "      <td>13.2</td>\n",
       "      <td>1022.4</td>\n",
       "      <td>-0.1</td>\n",
       "      <td>0</td>\n",
       "      <td>NE</td>\n",
       "      <td>1.4</td>\n",
       "      <td>Wanliu</td>\n",
       "    </tr>\n",
       "    <tr>\n",
       "      <td>1</td>\n",
       "      <td>27824</td>\n",
       "      <td>2016</td>\n",
       "      <td>5</td>\n",
       "      <td>3</td>\n",
       "      <td>7</td>\n",
       "      <td>15</td>\n",
       "      <td>26</td>\n",
       "      <td>2</td>\n",
       "      <td>11</td>\n",
       "      <td>300</td>\n",
       "      <td>72</td>\n",
       "      <td>15.5</td>\n",
       "      <td>993.5</td>\n",
       "      <td>-1.1</td>\n",
       "      <td>0</td>\n",
       "      <td>NW</td>\n",
       "      <td>3.7</td>\n",
       "      <td>Dingling</td>\n",
       "    </tr>\n",
       "    <tr>\n",
       "      <td>2</td>\n",
       "      <td>25841</td>\n",
       "      <td>2016</td>\n",
       "      <td>2</td>\n",
       "      <td>10</td>\n",
       "      <td>16</td>\n",
       "      <td>95</td>\n",
       "      <td>95</td>\n",
       "      <td>59</td>\n",
       "      <td>46</td>\n",
       "      <td>3100</td>\n",
       "      <td>61</td>\n",
       "      <td>9.3</td>\n",
       "      <td>1012.4</td>\n",
       "      <td>-12.6</td>\n",
       "      <td>0</td>\n",
       "      <td>ESE</td>\n",
       "      <td>1.4</td>\n",
       "      <td>Shunyi</td>\n",
       "    </tr>\n",
       "    <tr>\n",
       "      <td>3</td>\n",
       "      <td>26986</td>\n",
       "      <td>2016</td>\n",
       "      <td>3</td>\n",
       "      <td>29</td>\n",
       "      <td>9</td>\n",
       "      <td>10</td>\n",
       "      <td>36</td>\n",
       "      <td>12</td>\n",
       "      <td>34</td>\n",
       "      <td>500</td>\n",
       "      <td>45</td>\n",
       "      <td>15.7</td>\n",
       "      <td>1014.6</td>\n",
       "      <td>-6</td>\n",
       "      <td>0</td>\n",
       "      <td>WNW</td>\n",
       "      <td>0.8</td>\n",
       "      <td>Aotizhongxin</td>\n",
       "    </tr>\n",
       "    <tr>\n",
       "      <td>4</td>\n",
       "      <td>23848</td>\n",
       "      <td>2015</td>\n",
       "      <td>11</td>\n",
       "      <td>19</td>\n",
       "      <td>15</td>\n",
       "      <td>49</td>\n",
       "      <td>49</td>\n",
       "      <td>2</td>\n",
       "      <td>40</td>\n",
       "      <td>1700</td>\n",
       "      <td>2</td>\n",
       "      <td>4.6</td>\n",
       "      <td>1019.2</td>\n",
       "      <td>4</td>\n",
       "      <td>0.3</td>\n",
       "      <td>W</td>\n",
       "      <td>0.9</td>\n",
       "      <td>Wanliu</td>\n",
       "    </tr>\n",
       "  </tbody>\n",
       "</table>\n",
       "</div>"
      ],
      "text/plain": [
       "      No  year month day hour PM2.5 PM10 SO2      NO2    CO  O3  TEMP    PRES  \\\n",
       "0   5844  2013    10  30   11    41   49  19  51.1197   700   6  13.2  1022.4   \n",
       "1  27824  2016     5   3    7    15   26   2       11   300  72  15.5   993.5   \n",
       "2  25841  2016     2  10   16    95   95  59       46  3100  61   9.3  1012.4   \n",
       "3  26986  2016     3  29    9    10   36  12       34   500  45  15.7  1014.6   \n",
       "4  23848  2015    11  19   15    49   49   2       40  1700   2   4.6  1019.2   \n",
       "\n",
       "    DEWP RAIN   wd WSPM       station  \n",
       "0   -0.1    0   NE  1.4        Wanliu  \n",
       "1   -1.1    0   NW  3.7      Dingling  \n",
       "2  -12.6    0  ESE  1.4        Shunyi  \n",
       "3     -6    0  WNW  0.8  Aotizhongxin  \n",
       "4      4  0.3    W  0.9        Wanliu  "
      ]
     },
     "execution_count": 6,
     "metadata": {},
     "output_type": "execute_result"
    }
   ],
   "source": [
    "path = '../dataset/Air quality/'\n",
    "names =  [\"No\",  \"year\",  \"month\",  \"day\",  \"hour\",  \"PM2.5\",  \"PM10\",  \"SO2\",  \"NO2\",  \"CO\",  \"O3\",  \"TEMP\",  \"PRES\",  \"DEWP\",  \"RAIN\",  \"wd\",  \"WSPM\",  \"station\"]\n",
    "dataset = pd.read_csv(path + 'Air quality.csv',  names=names)\n",
    "dataset.head()"
   ]
  },
  {
   "cell_type": "markdown",
   "metadata": {},
   "source": [
    "## Dataset Preparation"
   ]
  },
  {
   "cell_type": "markdown",
   "metadata": {},
   "source": [
    "### Convert Column Types"
   ]
  },
  {
   "cell_type": "code",
   "execution_count": null,
   "metadata": {},
   "outputs": [],
   "source": []
  },
  {
   "cell_type": "code",
   "execution_count": null,
   "metadata": {},
   "outputs": [],
   "source": []
  }
 ],
 "metadata": {
  "kernelspec": {
   "display_name": "Python 3",
   "language": "python",
   "name": "python3"
  },
  "language_info": {
   "codemirror_mode": {
    "name": "ipython",
    "version": 3
   },
   "file_extension": ".py",
   "mimetype": "text/x-python",
   "name": "python",
   "nbconvert_exporter": "python",
   "pygments_lexer": "ipython3",
   "version": "3.7.1"
  }
 },
 "nbformat": 4,
 "nbformat_minor": 2
}
