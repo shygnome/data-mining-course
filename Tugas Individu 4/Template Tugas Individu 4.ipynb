{
 "cells": [
  {
   "cell_type": "markdown",
   "metadata": {
    "colab_type": "text",
    "id": "8sgcqWVxXUzw"
   },
   "source": [
    "<h2><center>Tugas Individu 4 Data Mining 2019/2020</center></h2>"
   ]
  },
  {
   "cell_type": "markdown",
   "metadata": {
    "colab_type": "text",
    "id": "OAAl2YX3XhXY"
   },
   "source": [
    "\n",
    "<center>Tanggal Launching: 5 November 2019<center>\n",
    "<center><font color=\"red\"><b>Deadline: 14 November 2019, pukul 22.00</b></font><center>\n",
    "\n",
    "\n",
    "\n"
   ]
  },
  {
   "cell_type": "markdown",
   "metadata": {
    "colab_type": "text",
    "id": "bWjGg2x4XUz4"
   },
   "source": [
    "<h4>Nama          :  </h4>\n",
    "<h4>NPM           :  </h4>\n",
    "<h4>Kolaborator   : </h4>"
   ]
  },
  {
   "cell_type": "markdown",
   "metadata": {
    "colab_type": "text",
    "id": "aKax0_7QXUz6"
   },
   "source": [
    "Petunjuk umum:<br>\n",
    "\n",
    "1. Dataset yang digunakan pada tugas ini merupakan dataset yang sama dengan tugas 3, yaitu dataset diabetes yang dapat diunduh di https://bit.ly/2M5vioB\n",
    "\n",
    "2. Lakukan pengolahan data dan perhitungan menggunakan bahasa pemrograman Python. Gunakan template Jupyter notebook yang telah disediakan untuk menjawab soal.\n",
    "\n",
    "3. Penggunaan Library dibatasi hanya untuk penggunaan numpy array dan pandas untuk membaca data. Khusus untuk implementasi Multilayer Perceptron, Anda dapat menggunakan library (Sklearn, Keras atau library lain).\n",
    "\n",
    "4. Format penulisan nama file di Jupyter notebook: T4_Nama_NIM.ipynb\n",
    "\n",
    "5. Kumpulkan pada slot yang disediakan di scele. Deadline: 14 November 2019, 22.00 WIB.\n",
    "\n",
    "6. Jika dalam menyelesaikan tugas ini anda berkolaborasi dengan orang lain, silahkan dituliskan dengan siapa anda berkolaborasi.\n"
   ]
  },
  {
   "cell_type": "markdown",
   "metadata": {
    "colab_type": "text",
    "id": "Yxdl4DWbXUz-"
   },
   "source": [
    "<h5>*) Tulis jawaban ditempat yang sudah disediakan</h5>\n",
    "\n"
   ]
  },
  {
   "cell_type": "markdown",
   "metadata": {
    "colab_type": "text",
    "id": "J2XF0rOfXU0D"
   },
   "source": [
    "<b><i>Neural Network</i></b>\n",
    "\n",
    "1. Bagilah dataset diabetes menjadi training dan testing dengan proporsi 80:20. Buatlah model Perceptron untuk mengklasifikasikan dataset tersebut. Gunakan <i> online learning </i< untuk meng<i>update weight </i> dan bias. Jelaskan fungsi aktivasi yang Anda gunakan dan bagaimana Anda memilih parameter yang optimal (misal <i>learning rate</i>).\n",
    "2. Dari hasil prediksi diatas, hitunglah akurasi, precision dan recall pada tiap kelas. Jika Anda melakukan variasi parameter, tampilkan hasil metrik evaluasi tersebut pada setiap variasi parameter yang Anda gunakan (bisa berupa tabel atau grafik)."
   ]
  },
  {
   "cell_type": "markdown",
   "metadata": {
    "colab_type": "text",
    "collapsed": true,
    "id": "OEPOX0d9XU0N"
   },
   "source": [
    "Jawaban:"
   ]
  },
  {
   "cell_type": "code",
   "execution_count": null,
   "metadata": {
    "colab_type": "text",
    "collapsed": true,
    "id": "6mQHstDpXU0T"
   },
   "outputs": [],
   "source": [
    "#1."
   ]
  },
  {
   "cell_type": "code",
   "execution_count": 1,
   "metadata": {
    "colab_type": "text",
    "collapsed": true,
    "id": "cWr_gBOgXU0Y"
   },
   "outputs": [],
   "source": [
    "#2."
   ]
  },
  {
   "cell_type": "markdown",
   "metadata": {
    "colab_type": "text",
    "id": "nM8fuH40XU0r"
   },
   "source": [
    "<b><i>Ensemble Learning</i></b>\n",
    "\n",
    "3.Dengan proporsi training dan testing yang sama dengan soal nomor 1, lakukan prediksi pada dataset diabetes dengan ketentuan sebagai berikut.\n",
    "\n",
    "Buatlah <i> bagging classifier</i> dengan menggunakan Perceptron yang Anda buat sebagai<i> base learner </i>. Lakukan variasi terhadap jumlah <i>bootstrap sample</i>. Dari prediksi bagging perceptron, tampilkan akurasi, precision dan recall per kelas pada tiap variasi jumlah <i>bootstrap sample</i> (bisa berupa tabel atau grafik).\n",
    "<br><br>\n",
    "4.Dengan proporsi training dan testing yang sama dengan soal nomor 1, lakukan prediksi pada dataset diabetes dengan ketentuan sebagai berikut.\n",
    "\n",
    "Implementasikan <i>bagging classifier</i> yang sudah Anda buat dengan perubahan pada <i> base learner </i>. Pada eksperimen ini, gunakan multilayer perceptron (MLP) sebagai <i> base learner </i>. Anda dapat menggunakan <i>library</i> untuk mengimplementasikan MLP (Sklearn atau Keras). Anda dapat melakukan variasi terhadap jumlah bootstrap sample, jumlah hidden layer, jumlah output unit, jumlah hidden unit, atau variasi pada fungsi aktivasi. Tampilkan akurasi, precision dan recall per kelas pada tiap variasi yang Anda lakukan (bisa berupa tabel atau grafik). \n",
    "<br><br>\n",
    "5.Lakukan komparasi dan analisis dari keseluruhan hasil eksperimen yang Anda lakukan (Perceptron, BaggingPperceptron, Bagging MLP) untuk menyelesaikan permasalahan klasifikasi penyakit diabetes. "
   ]
  },
  {
   "cell_type": "markdown",
   "metadata": {
    "colab_type": "text",
    "collapsed": true,
    "id": "5PDtwcEuXU0t"
   },
   "source": [
    "Jawaban:"
   ]
  },
  {
   "cell_type": "code",
   "execution_count": null,
   "metadata": {
    "colab_type": "text",
    "id": "utTigxsaXU0z"
   },
   "outputs": [],
   "source": [
    "#3. "
   ]
  },
  {
   "cell_type": "code",
   "execution_count": 2,
   "metadata": {
    "colab_type": "text",
    "collapsed": true,
    "id": "RcBdp4GQXU02"
   },
   "outputs": [],
   "source": [
    "#4"
   ]
  },
  {
   "cell_type": "code",
   "execution_count": 3,
   "metadata": {
    "colab_type": "text",
    "collapsed": true,
    "id": "mS0k4yE_XU06"
   },
   "outputs": [],
   "source": [
    "#5"
   ]
  }
 ],
 "metadata": {
  "colab": {
   "name": "Tugas+1.ipynb",
   "provenance": [],
   "version": "0.3.2"
  },
  "kernelspec": {
   "display_name": "Python 3",
   "language": "python",
   "name": "python3"
  },
  "language_info": {
   "codemirror_mode": {
    "name": "ipython",
    "version": 3
   },
   "file_extension": ".py",
   "mimetype": "text/x-python",
   "name": "python",
   "nbconvert_exporter": "python",
   "pygments_lexer": "ipython3",
   "version": "3.6.3"
  }
 },
 "nbformat": 4,
 "nbformat_minor": 1
}
