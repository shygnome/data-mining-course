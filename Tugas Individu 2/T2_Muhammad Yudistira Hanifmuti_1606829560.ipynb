{
 "cells": [
  {
   "cell_type": "markdown",
   "metadata": {},
   "source": [
    "<h2><center>Tugas 2 Data Mining 2019/2020</center></h2>"
   ]
  },
  {
   "cell_type": "markdown",
   "metadata": {},
   "source": [
    "<center><font color=\"red\">Deadline: 19 Oktober 2019 pukul 23.55</font><center>\n",
    "\n",
    "---\n",
    "\n",
    "\n",
    "\n"
   ]
  },
  {
   "cell_type": "markdown",
   "metadata": {},
   "source": [
    "<h4>Nama    : Muhammad Yudistira Hanifmuti </h4>\n",
    "<h4>NPM     : 1606829560 </h4>"
   ]
  },
  {
   "cell_type": "markdown",
   "metadata": {},
   "source": [
    "<b>Petunjuk umum:</b>\n",
    "1. Dataset yang digunakan pada tugas ini merupakan dataset <i><b>YEAST</b></i> yang dapat diunduh di : https://archive.ics.uci.edu/ml/datasets/Yeast\n",
    "Deskripsi atribut pada dataset dapat dilihat pada halaman tersebut.\n",
    "2. Lakukan pengolahan data dan perhitungan menggunakan bahasa pemrograman Python. Gunakan template Jupyter notebook yang telah disediakan untuk menjawab soal.\n",
    "3. Format penulisan nama file di Jupyter notebook: T2_Nama_NIM.ipynb\n",
    "4. Kumpulkan pada slot yang disediakan di scele. Deadline: 3 Oktober 2019 pukul 23.55.\n"
   ]
  },
  {
   "cell_type": "markdown",
   "metadata": {},
   "source": [
    "<b>Principal Component Analysis (PCA) (total 50 poin)</b>"
   ]
  },
  {
   "cell_type": "markdown",
   "metadata": {},
   "source": [
    "1. <b>[25 poin]</b> Lakukan implementasi Principal Component Analysis (PCA) pada dataset yeast dengan ketentuan sebagai berikut :\n",
    "\n",
    "    a. Jumlah komponen harus meng-capture 92% dari total variance.\n",
    "    \n",
    "    b. Penggunaan library yang diperbolehkan pada implementasi hanya library numpy.  \n",
    "    \n",
    "    c. Berikan penjelasan/komentar singkat dari setiap langkah-langkah dari code yang anda buat.\n",
    "    \n",
    "    \n",
    "2. <b>[10 poin]</b> Lakukan implementasi Principal Component Analysis (PCA) dengan menggunakan library (mis: Scikit-Learn) pada dataset yeast. Pemilihan jumlah komponen harus meng-capture 92% dari total variance.\n",
    "3. <b>[5 poin]</b> Hitunglah Mean Squared Error (MSE) pada soal nomor satu (1) dan nomor (2).\n",
    "4. <b>[5 poin]</b> Bandingkan hasil reduksi PCA secara manual dan PCA dengan menggunakan library! Apakah hasil yang diperoleh sama? Mengapa demikian?\n",
    "5. <b>[5 poin]</b> Pilih 2 kolom untuk melakukan plotting data hasil reduksi yang anda peroleh pada nomor 1 dan 2, lakukan analisis sederhana dari hasil plotting yang dibuat !\n"
   ]
  },
  {
   "cell_type": "markdown",
   "metadata": {},
   "source": [
    "Jawaban :"
   ]
  },
  {
   "cell_type": "markdown",
   "metadata": {},
   "source": [
    "1."
   ]
  },
  {
   "cell_type": "code",
   "execution_count": 1,
   "metadata": {},
   "outputs": [],
   "source": [
    "import numpy as np\n",
    "import requests\n",
    "\n",
    "# Load dataset yeast\n",
    "\n",
    "## Reshape dataset\n",
    "def reshape_yeast(dataset):\n",
    "    row_mapper = lambda row: np.array(list(map(lambda x: x, row)))\n",
    "    return np.array(list(map(row_mapper, dataset)))\n",
    "\n",
    "## Dataset split\n",
    "def split_yeast(dataset):\n",
    "    temp = reshape_yeast(dataset)\n",
    "    dataset_len = temp.shape[1]\n",
    "    name, data, target = temp[:, 0], temp[:, 1:dataset_len-1], temp[:, dataset_len-1]\n",
    "    return name.astype(str), data.astype(np.float32), target.astype(str)\n",
    "\n",
    "## Load dataset\n",
    "def load_dataset():\n",
    "    ## yeast URL\n",
    "    dataset_url = \"https://archive.ics.uci.edu/ml/machine-learning-databases/yeast/yeast.data\"\n",
    "    desc_url = \"https://archive.ics.uci.edu/ml/machine-learning-databases/yeast/yeast.names\"\n",
    "    columns = ('sequence_name', 'mcg', 'gvh', 'alm', 'mit', 'erl', 'pox', 'vac', 'nuc', 'target')\n",
    "    column_types = ('|S15', np.float, np.float, np.float, np.float, np.float, np.float, np.float, np.float, '|S15')\n",
    "\n",
    "    ## Download and write yeast.data\n",
    "    r = requests.get(dataset_url, allow_redirects=True)\n",
    "    open('yeast.data', 'wb').write(r.content)\n",
    "\n",
    "    ## Read yeast.data\n",
    "    dataset = np.loadtxt('yeast.data', dtype={'names': columns, 'formats': column_types})\n",
    "    return split_yeast(dataset)\n",
    "    \n",
    "yeast_name, yeast_data, yeast_target = load_dataset()"
   ]
  },
  {
   "cell_type": "code",
   "execution_count": 2,
   "metadata": {},
   "outputs": [
    {
     "name": "stdout",
     "output_type": "stream",
     "text": [
      "Hasil dari implementasi PCA yang dibuat sendiri pada dataset yeast adalah sebagai berikut.\n",
      "\n",
      "Reduced Basis dengan dimensi (6, 8)\n",
      "[[-7.0563948e-01 -2.2139853e-01  1.8524444e-02 -5.9138608e-01\n",
      "   1.4861572e-02 -3.3900939e-02 -3.1861123e-01 -9.5755616e-03]\n",
      " [-5.9702533e-01 -2.1817395e-01  1.0367900e-01  4.7453800e-01\n",
      "   1.7990310e-02  3.3192759e-05  5.9971392e-01  6.6943909e-03]\n",
      " [ 1.3178010e-01  1.7673567e-01 -1.5252647e-01 -6.2158364e-01\n",
      "   3.2295551e-02  1.8028271e-01  7.1282881e-01 -9.9088829e-03]\n",
      " [-3.3282053e-01  9.2974764e-01  8.5624345e-02  9.2550784e-02\n",
      "  -2.8696202e-03  4.5743503e-02 -8.1202619e-02  1.4424660e-02]\n",
      " [-2.2313349e-02 -8.4044889e-02  8.6947761e-02  8.1005163e-02\n",
      "   1.2592958e-01  9.7040021e-01 -1.3627374e-01  4.7026586e-02]\n",
      " [ 1.2897815e-01 -1.9413855e-02  9.7359979e-01 -1.5265895e-01\n",
      "  -3.8613926e-04 -6.5119721e-02  7.3310643e-02  4.6596516e-02]]\n",
      "\n",
      "Reduced Dimensionality Data dengan dimensi (1484, 6)\n",
      "[[ 0.00033539 -0.14195924  0.10002986  0.05906405 -0.08051147  0.00184927]\n",
      " [ 0.01103165  0.00287575  0.00393478  0.17844185 -0.06370049 -0.03031785]\n",
      " [-0.05493113 -0.16749863  0.09583659  0.05181231 -0.07303519  0.02579334]\n",
      " ...\n",
      " [-0.09064817 -0.16845775  0.08688717 -0.01217493 -0.07378745 -0.10205253]\n",
      " [ 0.1323215   0.02203065  0.03693524 -0.06471929  0.12548283  0.09747803]\n",
      " [-0.03152169 -0.16032179  0.08782089 -0.02346548 -0.06380744  0.08036941]]\n"
     ]
    }
   ],
   "source": [
    "# Principal Component Analysis (PCA) implementation\n",
    "\n",
    "from numpy import linalg as LA\n",
    "    \n",
    "## PCA function\n",
    "def myPCA(data, variance):\n",
    "    ## compute mean\n",
    "    mean = np.mean(data, axis=0)\n",
    "    \n",
    "    ## center the data\n",
    "    centered_data = data - mean.T\n",
    "    \n",
    "    ## compute covariance matrix, slightly different with np.cov() method\n",
    "    my_cov = np.dot(centered_data.T, centered_data)/(data.shape[0] - 1)\n",
    "    # cov_mat = np.cov(data.T)\n",
    "    \n",
    "    # compute eigenvalues and eigenvectors\n",
    "    w, v = LA.eig(my_cov)\n",
    "    sorted_idx = w.argsort()[::-1]\n",
    "    \n",
    "    # find optimal fraction of total variance\n",
    "    w_sum = np.sum(w)\n",
    "    \n",
    "    def variance_fraction(r):\n",
    "        return np.sum(w[sorted_idx[:r]])/w_sum\n",
    "    \n",
    "    r = 0\n",
    "    for i in range(data.shape[1]):\n",
    "        if variance_fraction(i + 1) >= variance:\n",
    "            r = i + 1\n",
    "            break\n",
    "    \n",
    "    ## compute reduced basis and reduced dimensionality data\n",
    "    reduced_basis = v[sorted_idx[:r]]\n",
    "    reduced_dim_data = np.dot(centered_data[:, sorted_idx], reduced_basis.T)\n",
    "    return reduced_basis, reduced_dim_data, w[sorted_idx[:r]]\n",
    "\n",
    "my_reduced_basis, my_reduced_dim_data, my_variance = myPCA(yeast_data, 0.92)\n",
    "\n",
    "print(\"Hasil dari implementasi PCA yang dibuat sendiri pada dataset yeast adalah sebagai berikut.\")\n",
    "print()\n",
    "print(\"Reduced Basis dengan dimensi\", my_reduced_basis.shape)\n",
    "print(my_reduced_basis)\n",
    "print()\n",
    "print(\"Reduced Dimensionality Data dengan dimensi\", my_reduced_dim_data.shape)\n",
    "print(my_reduced_dim_data)"
   ]
  },
  {
   "cell_type": "markdown",
   "metadata": {},
   "source": [
    "2."
   ]
  },
  {
   "cell_type": "code",
   "execution_count": 3,
   "metadata": {
    "scrolled": false
   },
   "outputs": [
    {
     "name": "stdout",
     "output_type": "stream",
     "text": [
      "Hasil dari implementasi PCA sklearn pada dataset yeast adalah sebagai berikut.\n",
      "\n",
      "Reduced Basis dengan dimensi (6, 8)\n",
      "[[ 0.70563954  0.59702545 -0.13178012  0.33282048  0.01901891  0.00179202\n",
      "   0.02231336 -0.12897815]\n",
      " [-0.22139867 -0.21817377  0.17673567  0.9297479  -0.01477175 -0.00761595\n",
      "  -0.08404493 -0.01941437]\n",
      " [ 0.01852362  0.10367935 -0.15252742  0.08562493  0.00838704 -0.05277176\n",
      "   0.08694784  0.97359943]\n",
      " [-0.5913857   0.47453713 -0.62158406  0.09255041 -0.0102307  -0.01315553\n",
      "   0.08100513 -0.15266037]\n",
      " [-0.31861177  0.59971434  0.7128278  -0.08120275  0.01216452  0.00427771\n",
      "  -0.13627382  0.07331055]\n",
      " [-0.00957728  0.00669766 -0.00990522  0.01442424 -0.00912182  0.9975424\n",
      "   0.04702613  0.04659701]]\n",
      "\n",
      "Reduced Dimensionality Data dengan dimensi (1484, 6)\n",
      "[[ 0.08907697 -0.16608784 -0.0498494   0.01863525  0.02830373 -0.01261453]\n",
      " [ 0.0654452  -0.01823863 -0.03159744  0.14660677  0.10102402 -0.00650474]\n",
      " [ 0.14252196 -0.16362591 -0.04469221 -0.01863239  0.02100177 -0.01068136]\n",
      " ...\n",
      " [ 0.16495353 -0.14766632 -0.02345807  0.02683628 -0.11854596 -0.00802779]\n",
      " [-0.17010188 -0.0436961   0.07819887 -0.09224155  0.04603533 -0.00316713]\n",
      " [ 0.08857086 -0.15814419 -0.0621399  -0.09544041  0.00710438 -0.01209635]]\n"
     ]
    }
   ],
   "source": [
    "# PCA usage with sklearn\n",
    "from sklearn.decomposition import PCA\n",
    "\n",
    "for i in range(yeast_data.shape[1]):\n",
    "    pca = PCA(n_components=i+1)\n",
    "    decomposed_data = pca.fit_transform(yeast_data)\n",
    "    sklearn_pca_basis, sklearn_pca_data = pca.components_, decomposed_data\n",
    "    \n",
    "    if pca.explained_variance_ratio_.cumsum()[-1] >= 0.92:\n",
    "        break\n",
    "\n",
    "print(\"Hasil dari implementasi PCA sklearn pada dataset yeast adalah sebagai berikut.\")\n",
    "print()\n",
    "print(\"Reduced Basis dengan dimensi\", sklearn_pca_basis.shape)\n",
    "print(sklearn_pca_basis)\n",
    "print()\n",
    "print(\"Reduced Dimensionality Data dengan dimensi\", sklearn_pca_data.shape)\n",
    "print(sklearn_pca_data)"
   ]
  },
  {
   "cell_type": "markdown",
   "metadata": {},
   "source": [
    "3."
   ]
  },
  {
   "cell_type": "code",
   "execution_count": 4,
   "metadata": {},
   "outputs": [
    {
     "name": "stdout",
     "output_type": "stream",
     "text": [
      "MSE dari dua implementasi PCA yang dilakukan pada nomor 1 dan 2 adalah 0.027939359\n",
      "MSE dari implementasi PCA sendiri terhadap data adalah 0.005393125\n",
      "MSE dari implementasi PCA sklearn terhadap data adalah 0.00539311\n"
     ]
    }
   ],
   "source": [
    "from sklearn.metrics import mean_squared_error\n",
    "\n",
    "def get_eig_val(data):\n",
    "    mean = np.mean(data, axis=0)\n",
    "    ## center the data\n",
    "    centered_data = data - mean.T\n",
    "    ## compute covariance matrix, slightly different with np.cov() method\n",
    "    my_cov = np.dot(centered_data.T, centered_data)/(data.shape[0] - 1)\n",
    "    w, v = LA.eig(my_cov)\n",
    "    return np.sum(w)\n",
    "\n",
    "print(\"MSE dari dua implementasi PCA yang dilakukan pada nomor 1 dan 2 adalah\", mean_squared_error(sklearn_pca_data, my_reduced_dim_data))\n",
    "print(\"MSE dari implementasi PCA sendiri terhadap data adalah\", get_eig_val(yeast_data) - np.sum(my_variance))\n",
    "print(\"MSE dari implementasi PCA sklearn terhadap data adalah\", get_eig_val(yeast_data) - np.sum(pca.explained_variance_))"
   ]
  },
  {
   "cell_type": "markdown",
   "metadata": {},
   "source": [
    "4."
   ]
  },
  {
   "cell_type": "code",
   "execution_count": 5,
   "metadata": {},
   "outputs": [
    {
     "name": "stdout",
     "output_type": "stream",
     "text": [
      "\n",
      "Walaupun eigen value yang dimiliki sama dan MSE bernilai minimal, perhitungan eigen vector antara kedua PCA berbeda.\n",
      "Hal ini membuat PCA memiliki basis yang berbeda. Basis yang berbeda menghasilkan proyeksi data yang berbeda pula.\n",
      "Salah satu penyebab perbedaan eigen vector ini adalah implementasi manual PCA menggunakan fungsi numpy.linalg.eig().\n",
      "Sementara pada PCA sklearn, implementasi eigen vector menggunakan metode svd.\n",
      "\n"
     ]
    }
   ],
   "source": [
    "# compare reduction result between manual PCA and sklearn PCA\n",
    "\n",
    "answer = \"\"\"\n",
    "Walaupun eigen value yang dimiliki sama dan MSE bernilai minimal, perhitungan eigen vector antara kedua PCA berbeda.\n",
    "Hal ini membuat PCA memiliki basis yang berbeda. Basis yang berbeda menghasilkan proyeksi data yang berbeda pula.\n",
    "Salah satu penyebab perbedaan eigen vector ini adalah implementasi manual PCA menggunakan fungsi numpy.linalg.eig().\n",
    "Sementara pada PCA sklearn, implementasi eigen vector menggunakan metode svd.\n",
    "\"\"\"\n",
    "\n",
    "print(answer)"
   ]
  },
  {
   "cell_type": "markdown",
   "metadata": {},
   "source": [
    "5."
   ]
  },
  {
   "cell_type": "code",
   "execution_count": 6,
   "metadata": {},
   "outputs": [
    {
     "data": {
      "image/png": "[encoded data removed]",
      "text/plain": [
       "<Figure size 432x288 with 1 Axes>"
      ]
     },
     "metadata": {
      "needs_background": "light"
     },
     "output_type": "display_data"
    },
    {
     "name": "stdout",
     "output_type": "stream",
     "text": [
      "\n",
      "Dapat dilihat berdasarkan hasil plotting, kedua PCA memproyeksi data ke basis baru yang hampir serupa.\n",
      "Terdapat beberapa titik yang sedikit tersebar dan cenderung \"terbalik\". Tentu hal ini disebabkan oleh perbedaan\n",
      "eigen vector yang digunakan sebagai basis.\n",
      "\n"
     ]
    }
   ],
   "source": [
    "# plot PCA reduction results\n",
    "\n",
    "import matplotlib.pyplot as plt\n",
    "\n",
    "%matplotlib inline\n",
    "\n",
    "plt.scatter(my_reduced_dim_data[:, 0], my_reduced_dim_data[:, 1], color='red', s=10)\n",
    "plt.scatter(sklearn_pca_data[:, 0], sklearn_pca_data[:, 1], color='blue', s=10)\n",
    "plt.title('scatter plot 2D dari data hasil reduksi')\n",
    "plt.legend(['my_pca', 'sklearn_pca'])\n",
    "plt.grid()\n",
    "plt.show()\n",
    "\n",
    "explanation = \"\"\"\n",
    "Dapat dilihat berdasarkan hasil plotting, kedua PCA memproyeksi data ke basis baru yang hampir serupa.\n",
    "Terdapat beberapa titik yang sedikit tersebar dan cenderung \"terbalik\". Tentu hal ini disebabkan oleh perbedaan\n",
    "eigen vector yang digunakan sebagai basis.\n",
    "\"\"\"\n",
    "print(explanation)"
   ]
  },
  {
   "cell_type": "markdown",
   "metadata": {},
   "source": [
    "<b>Linear Discriminant Analysis (LDA) (total 50 poin)</b>"
   ]
  },
  {
   "cell_type": "markdown",
   "metadata": {},
   "source": [
    "1. <b>[25 poin]</b> Lakukan implementasi Linear Discriminant Analysis (LDA) pada dataset yeast dengan ketentuan sebagai berikut :\n",
    "\n",
    "    a. Penggunaan library yang diperbolehkan pada implementasi hanya library numpy. \n",
    "\n",
    "    b. Berikan penjelasan/komentar singkat dari setiap langkah-langkah dari code yang anda buat!\n",
    "\n",
    "\n",
    "2. <b>[10 poin]</b> Lakukan implementasi Linear Discriminant Analysis (LDA) dengan menggunakan library (mis: Scikit-Learn) pada dataset yeast.\n",
    "3. <b>[5 poin]</b> Bandingkan hasil reduksi LDA secara manual dan LDA dengan menggunakan library! Apakah hasil yang diperoleh sama? Mengapa demikian?\n",
    "4. <b>[10 poin]</b> Pilih 2 kolom untuk melakukan plotting data hasil reduksi yang anda peroleh pada nomor 1 dan 2, lakukan analisis sederhana dari hasil plotting yang dibuat !\n"
   ]
  },
  {
   "cell_type": "markdown",
   "metadata": {},
   "source": [
    "1."
   ]
  },
  {
   "cell_type": "code",
   "execution_count": 7,
   "metadata": {},
   "outputs": [
    {
     "name": "stdout",
     "output_type": "stream",
     "text": [
      "Hasil dari implementasi LDA yang dibuat sendiri pada dataset yeast adalah sebagai berikut.\n",
      "\n",
      "Reduced Basis dengan dimensi (8, 8)\n",
      "[[ 0.29375666  0.1559694   0.1385993   0.10243925 -0.45821303  0.13020737\n",
      "   0.19295593  0.41316968]\n",
      " [ 0.23477662  0.09773498  0.08599419  0.06673381 -0.01067197 -0.23990256\n",
      "  -0.34873438 -0.56441426]\n",
      " [-0.7854548   0.56600606  0.38439074  0.13762283 -0.16150981  0.09261838\n",
      "  -0.17932685 -0.10683682]\n",
      " [ 0.1372245   0.11626592  0.05211945  0.11315     0.6127558  -0.24082518\n",
      "   0.07869983  0.12176686]\n",
      " [ 0.41192824  0.32018295  0.63436633 -0.963954    0.30841398 -0.01971529\n",
      "   0.13404423 -0.02456217]\n",
      " [ 0.12097454  0.7259637  -0.64764243 -0.14922518 -0.06621009 -0.10872433\n",
      "   0.00558182  0.00698021]\n",
      " [-0.10105506  0.03910309  0.01885383 -0.01751285  0.43984047  0.39288908\n",
      "  -0.8845825   0.67712504]\n",
      " [-0.16818227 -0.03422425  0.02656604 -0.0390864  -0.30888394 -0.8320735\n",
      "  -0.04811798  0.15917198]]\n",
      "\n",
      "Reduced Dimensionality Data dengan dimensi (1484, 8)\n",
      "[[ 0.08272565  0.6025497   0.65236074 ... -0.06292398 -0.5430296\n",
      "   0.20871885]\n",
      " [ 0.05905287  0.6089108   0.64881384 ... -0.10999414 -0.6279015\n",
      "   0.16271381]\n",
      " [ 0.08468144  0.6284858   0.6712096  ... -0.04083027 -0.5811812\n",
      "   0.26201975]\n",
      " ...\n",
      " [ 0.18632174  0.56052107  0.6237474  ... -0.03481561 -0.5580329\n",
      "   0.3417088 ]\n",
      " [-0.14227712  0.6318357   0.6705054  ... -0.14906797 -0.5720994\n",
      "   0.31595013]\n",
      " [ 0.02681961  0.6482017   0.6838932  ... -0.01088858 -0.5618933\n",
      "   0.3035274 ]]\n"
     ]
    }
   ],
   "source": [
    "# Linear Discriminant Analysis (LDA) implementation\n",
    "\n",
    "from numpy import linalg as LA\n",
    "\n",
    "## LDA function\n",
    "def myLDA(data, target):\n",
    "    # encode target\n",
    "    n_classes = np.unique(target).size\n",
    "    encoder = {e:i for i,e in enumerate(np.unique(target))}\n",
    "    decoder = {encoder[i]:i for i in encoder.keys()}\n",
    "    encoded_target = np.array([encoder[i] for i in target])\n",
    "    \n",
    "    # separate data per class\n",
    "    data_per_class = [data[encoded_target == i] for i in range(n_classes)]\n",
    "    class_size = [data_per_class[i].shape[0] for i in range(n_classes)]\n",
    "    \n",
    "    # compute intra class matrix\n",
    "    intra_mean = [np.sum(data_per_class[i], axis=0)/class_size[i] for i in range(n_classes)]\n",
    "    diff_per_class = [data_per_class[i] - intra_mean[i] for i in range(n_classes)]\n",
    "    outer_prod = [[np.outer(e.T, e.T) for e in diff_per_class[i]] for i in range(n_classes)]\n",
    "    intra_mat = sum([sum(e) for e in outer_prod])\n",
    "    \n",
    "    # compute inter class matrix\n",
    "    tot_mean = sum([class_size[i]*intra_mean[i] for i in range(n_classes)])/sum(class_size)\n",
    "    mean_dev = [intra_mean[i]-tot_mean for i in range(n_classes)]\n",
    "    outer_mean_dev = [np.outer(mean_dev[i], mean_dev[i]) for i in range(n_classes)]\n",
    "    inter_mat = sum([class_size[i]*outer_mean_dev[i] for i in range(n_classes)])\n",
    "    \n",
    "    # compute eigen vector\n",
    "    w, v = LA.eig(np.dot(LA.inv(intra_mat), inter_mat))\n",
    "    \n",
    "    ## compute reduced basis and reduced dimensionality data\n",
    "    data = np.dot(data, v)\n",
    "    return data, v, w\n",
    "\n",
    "X, y = yeast_data, yeast_target\n",
    "my_lda_data, my_lda_basis, my_lda_eigval = myLDA(X,y)\n",
    "my_lda_data\n",
    "\n",
    "print(\"Hasil dari implementasi LDA yang dibuat sendiri pada dataset yeast adalah sebagai berikut.\")\n",
    "print()\n",
    "print(\"Reduced Basis dengan dimensi\", my_lda_basis.shape)\n",
    "print(my_lda_basis)\n",
    "print()\n",
    "print(\"Reduced Dimensionality Data dengan dimensi\", my_lda_data.shape)\n",
    "print(my_lda_data)"
   ]
  },
  {
   "cell_type": "markdown",
   "metadata": {},
   "source": [
    "2."
   ]
  },
  {
   "cell_type": "code",
   "execution_count": 8,
   "metadata": {},
   "outputs": [
    {
     "name": "stdout",
     "output_type": "stream",
     "text": [
      "Hasil dari implementasi LDA sklearn pada dataset yeast adalah sebagai berikut.\n",
      "\n",
      "Reduced Basis dengan dimensi (8, 8)\n",
      "[[ 1.16643736e-02  4.42597300e-03 -6.26719479e-04  6.73072222e-04\n",
      "  -3.79451406e-05 -8.55287801e-05  5.68525953e-04 -4.49854678e-04]\n",
      " [ 4.42597300e-03  1.06160554e-02 -1.14377401e-03  1.49807873e-04\n",
      "  -4.01115312e-05 -8.05964004e-05  5.93432620e-04 -1.80374106e-04]\n",
      " [-6.26719479e-04 -1.14377401e-03  4.06319406e-03  4.60826285e-04\n",
      "  -6.35214152e-06 -1.26010606e-05 -6.37677771e-04 -5.99800850e-04]\n",
      " [ 6.73072222e-04  1.49807873e-04  4.60826285e-04  1.42769011e-02\n",
      "  -7.73262336e-05 -2.12627078e-04 -8.44625402e-04  3.61924866e-04]\n",
      " [-3.79451406e-05 -4.01115312e-05 -6.35214152e-06 -7.73262336e-05\n",
      "   1.50247994e-03 -1.45540917e-06  4.37306390e-05  4.73494480e-05]\n",
      " [-8.55287801e-05 -8.05964004e-05 -1.26010606e-05 -2.12627078e-04\n",
      "  -1.45540917e-06  3.34986089e-03  7.11339965e-05  1.13057248e-05]\n",
      " [ 5.68525953e-04  5.93432620e-04 -6.37677771e-04 -8.44625402e-04\n",
      "   4.37306390e-05  7.11339965e-05  3.24163054e-03  6.40576759e-04]\n",
      " [-4.49854678e-04 -1.80374106e-04 -5.99800850e-04  3.61924866e-04\n",
      "   4.73494480e-05  1.13057248e-05  6.40576759e-04  9.98983125e-03]]\n",
      "\n",
      "Reduced Dimensionality Data dengan dimensi (1484, 8)\n",
      "[[ 0.81781931 -0.24276939  0.03941943 ...  0.56176099 -0.88587877\n",
      "   0.13136098]\n",
      " [ 0.51295922 -0.13874015 -0.02556512 ...  0.05966823 -1.52036399\n",
      "   1.47637924]\n",
      " [ 0.8430054   0.18138997  0.38475835 ...  0.79744039 -0.15077183\n",
      "   0.73597183]\n",
      " ...\n",
      " [ 2.15192767 -0.93010166 -0.48481778 ...  0.86160645  0.94827588\n",
      "   0.36912921]\n",
      " [-2.07976015  0.23617071  0.37185349 ... -0.35711662  0.5930298\n",
      "   0.59205231]\n",
      " [ 0.09786281  0.50382228  0.61714022 ...  1.11682672  0.42168703\n",
      "   0.4303017 ]]\n"
     ]
    }
   ],
   "source": [
    "from sklearn.discriminant_analysis import LinearDiscriminantAnalysis\n",
    "\n",
    "lda = LinearDiscriminantAnalysis(store_covariance=True)\n",
    "X_lda = lda.fit(X, y).transform(X)\n",
    "\n",
    "print(\"Hasil dari implementasi LDA sklearn pada dataset yeast adalah sebagai berikut.\")\n",
    "print()\n",
    "print(\"Reduced Basis dengan dimensi\", lda.covariance_.shape)\n",
    "print(lda.covariance_)\n",
    "print()\n",
    "print(\"Reduced Dimensionality Data dengan dimensi\", X_lda.shape)\n",
    "print(X_lda)"
   ]
  },
  {
   "cell_type": "markdown",
   "metadata": {},
   "source": [
    "3."
   ]
  },
  {
   "cell_type": "code",
   "execution_count": 9,
   "metadata": {},
   "outputs": [
    {
     "name": "stdout",
     "output_type": "stream",
     "text": [
      "\n",
      "Hasil reduksi terlihat sangat berbeda. Terdapat kemungkinan perbedaan atau kesalahan pada implementasi manual.\n",
      "\n"
     ]
    }
   ],
   "source": [
    "# compare reduction result between manual LDA and sklearn LDA\n",
    "\n",
    "answer = \"\"\"\n",
    "Hasil reduksi terlihat sangat berbeda. Terdapat kemungkinan perbedaan atau kesalahan pada implementasi manual.\n",
    "\"\"\"\n",
    "\n",
    "print(answer)"
   ]
  },
  {
   "cell_type": "markdown",
   "metadata": {},
   "source": [
    "4."
   ]
  },
  {
   "cell_type": "code",
   "execution_count": 10,
   "metadata": {},
   "outputs": [
    {
     "data": {
      "image/png": "[encoded data removed]",
      "text/plain": [
       "<Figure size 432x288 with 1 Axes>"
      ]
     },
     "metadata": {
      "needs_background": "light"
     },
     "output_type": "display_data"
    },
    {
     "name": "stdout",
     "output_type": "stream",
     "text": [
      "\n",
      "\n"
     ]
    }
   ],
   "source": [
    "# plot LDA reduction results\n",
    "\n",
    "import matplotlib.pyplot as plt\n",
    "\n",
    "%matplotlib inline\n",
    "\n",
    "plt.scatter(my_lda_data[:, 0], my_lda_data[:, 1], color='red', s=10)\n",
    "plt.scatter(X_lda[:, 0], X_lda[:, 1], color='blue', s=10)\n",
    "plt.title('scatter plot 2D dari data hasil reduksi')\n",
    "plt.legend(['my_lda', 'sklearn_lda'])\n",
    "plt.grid()\n",
    "plt.show()\n",
    "\n",
    "explanation = \"\"\"\n",
    "\"\"\"\n",
    "print(explanation)"
   ]
  },
  {
   "cell_type": "markdown",
   "metadata": {},
   "source": [
    "<b>Pertanyaan bonus [10 poin] </b>"
   ]
  },
  {
   "cell_type": "markdown",
   "metadata": {},
   "source": [
    "Bacalah paper berikut ini (file ada di Scele). \n",
    "\n",
    "A. M. Martinez and A. C. Kak, \"PCA versus LDA,\" in IEEE Transactions on Pattern Analysis and Machine Intelligence, vol. 23, no. 2, pp. 228-233, Feb. 2001.\n",
    "\n",
    "Jawab pertanyaan di bawah ini. \n"
   ]
  },
  {
   "cell_type": "markdown",
   "metadata": {},
   "source": [
    "1. Apa masalah dalam penelitian tersebut? Solusi apa yang ditawarkan penulis?\n",
    "\n",
    "\n"
   ]
  },
  {
   "cell_type": "markdown",
   "metadata": {},
   "source": [
    "2. Bagaimana performa PCA dan LDA dalam menyelesaikan masalah dipaper tersebut? Manakah yang lebih baik?"
   ]
  },
  {
   "cell_type": "code",
   "execution_count": null,
   "metadata": {},
   "outputs": [],
   "source": []
  }
 ],
 "metadata": {
  "kernelspec": {
   "display_name": "Python 3",
   "language": "python",
   "name": "python3"
  },
  "language_info": {
   "codemirror_mode": {
    "name": "ipython",
    "version": 3
   },
   "file_extension": ".py",
   "mimetype": "text/x-python",
   "name": "python",
   "nbconvert_exporter": "python",
   "pygments_lexer": "ipython3",
   "version": "3.7.1"
  }
 },
 "nbformat": 4,
 "nbformat_minor": 2
}
