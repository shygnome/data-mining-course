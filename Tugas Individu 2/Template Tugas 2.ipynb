{
 "cells": [
  {
   "cell_type": "markdown",
   "metadata": {},
   "source": [
    "<h2><center>Tugas 2 Data Mining 2019/2020</center></h2>"
   ]
  },
  {
   "cell_type": "markdown",
   "metadata": {},
   "source": [
    "<center><font color=\"red\">Deadline: 19 Oktober 2019 pukul 23.55</font><center>\n",
    "\n",
    "---\n",
    "\n",
    "\n",
    "\n"
   ]
  },
  {
   "cell_type": "markdown",
   "metadata": {},
   "source": [
    "<h4>Nama    :  </h4>\n",
    "<h4>NPM     :  </h4>"
   ]
  },
  {
   "cell_type": "markdown",
   "metadata": {},
   "source": [
    "<b>Petunjuk umum:</b>\n",
    "1. Dataset yang digunakan pada tugas ini merupakan dataset <i><b>YEAST</b></i> yang dapat diunduh di : https://archive.ics.uci.edu/ml/datasets/Yeast\n",
    "Deskripsi atribut pada dataset dapat dilihat pada halaman tersebut.\n",
    "2. Lakukan pengolahan data dan perhitungan menggunakan bahasa pemrograman Python. Gunakan template Jupyter notebook yang telah disediakan untuk menjawab soal.\n",
    "3. Format penulisan nama file di Jupyter notebook: T2_Nama_NIM.ipynb\n",
    "4. Kumpulkan pada slot yang disediakan di scele. Deadline: 3 Oktober 2019 pukul 23.55.\n"
   ]
  },
  {
   "cell_type": "markdown",
   "metadata": {},
   "source": [
    "<b>Principal Component Analysis (PCA) (total 50 poin)</b>"
   ]
  },
  {
   "cell_type": "markdown",
   "metadata": {},
   "source": [
    "1. <b>[25 poin]</b> Lakukan implementasi Principal Component Analysis (PCA) pada dataset yeast dengan ketentuan sebagai berikut :\n",
    "\n",
    "    a. Jumlah komponen harus meng-capture 92% dari total variance.\n",
    "    \n",
    "    b. Penggunaan library yang diperbolehkan pada implementasi hanya library numpy.  \n",
    "    \n",
    "    c. Berikan penjelasan/komentar singkat dari setiap langkah-langkah dari code yang anda buat.\n",
    "    \n",
    "    \n",
    "2. <b>[10 poin]</b> Lakukan implementasi Principal Component Analysis (PCA) dengan menggunakan library (mis: Scikit-Learn) pada dataset yeast. Pemilihan jumlah komponen harus meng-capture 92% dari total variance.\n",
    "3. <b>[5 poin]</b> Hitunglah Mean Squared Error (MSE) pada soal nomor satu (1) dan nomor (2).\n",
    "4. <b>[5 poin]</b> Bandingkan hasil reduksi PCA secara manual dan PCA dengan menggunakan library! Apakah hasil yang diperoleh sama? Mengapa demikian?\n",
    "5. <b>[5 poin]</b> Pilih 2 kolom untuk melakukan plotting data hasil reduksi yang anda peroleh pada nomor 1 dan 2, lakukan analisis sederhana dari hasil plotting yang dibuat !\n"
   ]
  },
  {
   "cell_type": "markdown",
   "metadata": {},
   "source": [
    "Jawaban :"
   ]
  },
  {
   "cell_type": "markdown",
   "metadata": {},
   "source": [
    "1."
   ]
  },
  {
   "cell_type": "code",
   "execution_count": null,
   "metadata": {},
   "outputs": [],
   "source": []
  },
  {
   "cell_type": "markdown",
   "metadata": {},
   "source": [
    "2."
   ]
  },
  {
   "cell_type": "code",
   "execution_count": null,
   "metadata": {},
   "outputs": [],
   "source": []
  },
  {
   "cell_type": "markdown",
   "metadata": {},
   "source": [
    "3."
   ]
  },
  {
   "cell_type": "code",
   "execution_count": null,
   "metadata": {},
   "outputs": [],
   "source": []
  },
  {
   "cell_type": "markdown",
   "metadata": {},
   "source": [
    "4."
   ]
  },
  {
   "cell_type": "code",
   "execution_count": null,
   "metadata": {},
   "outputs": [],
   "source": []
  },
  {
   "cell_type": "markdown",
   "metadata": {},
   "source": [
    "5."
   ]
  },
  {
   "cell_type": "code",
   "execution_count": null,
   "metadata": {},
   "outputs": [],
   "source": []
  },
  {
   "cell_type": "markdown",
   "metadata": {},
   "source": [
    "<b>Linear Discriminant Analysis (LDA) (total 50 poin)</b>"
   ]
  },
  {
   "cell_type": "markdown",
   "metadata": {},
   "source": [
    "1. <b>[25 poin]</b> Lakukan implementasi Linear Discriminant Analysis (LDA) pada dataset yeast dengan ketentuan sebagai berikut :\n",
    "\n",
    "    a. Penggunaan library yang diperbolehkan pada implementasi hanya library numpy. \n",
    "\n",
    "    b. Berikan penjelasan/komentar singkat dari setiap langkah-langkah dari code yang anda buat!\n",
    "\n",
    "\n",
    "2. <b>[10 poin]</b> Lakukan implementasi Linear Discriminant Analysis (LDA) dengan menggunakan library (mis: Scikit-Learn) pada dataset yeast.\n",
    "3. <b>[5 poin]</b> Bandingkan hasil reduksi LDA secara manual dan LDA dengan menggunakan library! Apakah hasil yang diperoleh sama? Mengapa demikian?\n",
    "4. <b>[10 poin]</b> Pilih 2 kolom untuk melakukan plotting data hasil reduksi yang anda peroleh pada nomor 1 dan 2, lakukan analisis sederhana dari hasil plotting yang dibuat !\n"
   ]
  },
  {
   "cell_type": "markdown",
   "metadata": {},
   "source": [
    "1."
   ]
  },
  {
   "cell_type": "code",
   "execution_count": null,
   "metadata": {},
   "outputs": [],
   "source": []
  },
  {
   "cell_type": "markdown",
   "metadata": {},
   "source": [
    "2."
   ]
  },
  {
   "cell_type": "code",
   "execution_count": null,
   "metadata": {},
   "outputs": [],
   "source": []
  },
  {
   "cell_type": "markdown",
   "metadata": {},
   "source": [
    "3."
   ]
  },
  {
   "cell_type": "code",
   "execution_count": null,
   "metadata": {},
   "outputs": [],
   "source": []
  },
  {
   "cell_type": "markdown",
   "metadata": {},
   "source": [
    "4."
   ]
  },
  {
   "cell_type": "code",
   "execution_count": null,
   "metadata": {},
   "outputs": [],
   "source": []
  },
  {
   "cell_type": "markdown",
   "metadata": {},
   "source": [
    "<b>Pertanyaan bonus [10 poin] </b>"
   ]
  },
  {
   "cell_type": "markdown",
   "metadata": {},
   "source": [
    "Bacalah paper berikut ini (file ada di Scele). \n",
    "\n",
    "A. M. Martinez and A. C. Kak, \"PCA versus LDA,\" in IEEE Transactions on Pattern Analysis and Machine Intelligence, vol. 23, no. 2, pp. 228-233, Feb. 2001.\n",
    "\n",
    "Jawab pertanyaan di bawah ini. \n"
   ]
  },
  {
   "cell_type": "markdown",
   "metadata": {},
   "source": [
    "1. Apa masalah dalam penelitian tersebut? Solusi apa yang ditawarkan penulis?\n",
    "\n",
    "\n"
   ]
  },
  {
   "cell_type": "markdown",
   "metadata": {},
   "source": [
    "2. Bagaimana performa PCA dan LDA dalam menyelesaikan masalah dipaper tersebut? Manakah yang lebih baik?"
   ]
  },
  {
   "cell_type": "code",
   "execution_count": null,
   "metadata": {},
   "outputs": [],
   "source": []
  }
 ],
 "metadata": {
  "kernelspec": {
   "display_name": "Python 3",
   "language": "python",
   "name": "python3"
  },
  "language_info": {
   "codemirror_mode": {
    "name": "ipython",
    "version": 3
   },
   "file_extension": ".py",
   "mimetype": "text/x-python",
   "name": "python",
   "nbconvert_exporter": "python",
   "pygments_lexer": "ipython3",
   "version": "3.6.8"
  }
 },
 "nbformat": 4,
 "nbformat_minor": 2
}