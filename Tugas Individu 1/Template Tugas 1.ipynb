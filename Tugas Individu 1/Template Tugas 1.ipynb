{
 "cells": [
  {
   "cell_type": "markdown",
   "metadata": {
    "colab_type": "text",
    "id": "8sgcqWVxXUzw"
   },
   "source": [
    "<h2><center>Tugas 1 Data Mining 2019/2020</center></h2>\n"
   ]
  },
  {
   "cell_type": "markdown",
   "metadata": {
    "colab_type": "text",
    "id": "OAAl2YX3XhXY"
   },
   "source": [
    "<center><font color=\"red\">Deadline: 19 Oktober 2019 pukul 23.55</font><center>\n",
    "\n",
    "---\n",
    "\n",
    "\n",
    "\n"
   ]
  },
  {
   "cell_type": "markdown",
   "metadata": {
    "colab_type": "text",
    "id": "bWjGg2x4XUz4"
   },
   "source": [
    "<h4>Nama    :  </h4>\n",
    "<h4>NPM     :  </h4>"
   ]
  },
  {
   "cell_type": "markdown",
   "metadata": {
    "colab_type": "text",
    "id": "aKax0_7QXUz6"
   },
   "source": [
    "<b> Petunjuk Umum: </b>\n",
    "\n",
    "1. Kerjakanlah soal-soal berikut dengan menggunakan data Wine yang telah tersedia pada library scikit-learn. Lakukan pengolahan data dan perhitungan menggunakan bahasa pemrograman Python. Perhitungan tidak boleh menggunakan fungsi yang sudah tersedia di dalam library, eg. menghitung mean dengan menggunakan numpy.mean(...) atau mengitung covariance dengan menggunakan numpy.cov(..).\n",
    "\n",
    "2. Gunakan template Jupyter notebook yang telah disediakan untuk menjawab soal.\n",
    "\n",
    "3. Format penulisan nama file di Jupyter notebook: T1_Nama_NIM.ipynb\n",
    "\n",
    "4. Kumpulkan pada slot yang disediakan di scele. Deadline: 19 Oktober 2019 pukul 23.55. \n",
    "\n"
   ]
  },
  {
   "cell_type": "markdown",
   "metadata": {
    "colab_type": "text",
    "id": "Yxdl4DWbXUz-"
   },
   "source": [
    "<h5>*) Tulis jawaban ditempat yang sudah disediakan</h5>\n",
    "\n"
   ]
  },
  {
   "cell_type": "markdown",
   "metadata": {
    "colab_type": "text",
    "id": "J2XF0rOfXU0D"
   },
   "source": [
    "<b><i>Data processing</i></b>\n",
    "\n",
    "1. Berapa banyak instances dan dimensi dari data Wine tersebut?\n",
    "2. Hitunglah range, Interquartile range dan variance dari masing-masing kolom!\n",
    "3. Buatlah scatter plot 2D dari data kolom 'alcohol' dan 'malic_acid'!\n",
    "4. Dengan data dari kolom 'alcohol' dan 'malic_acid', ubah data menjadi centered data matrix!\n",
    "5. Hitunglah mean data kolom 'alcohol' dan 'malic_acid' dari centered data matrix!\n",
    "6. Buatlah scatter 2 plot 2D, yaitu:\n",
    "<dd>a. scatter plot 2D dari centered data matrix</dd>\n",
    "<dd>b. scatter plot 2D dari centered data matrix dengan memberikan warna/simbol berbeda untuk kelas yang berbeda.</dd> \n",
    "7. Hitunglah covariance matrix data kolom 'alcohol' dan 'malic_acid' dari centered data matrix!\n",
    "8. Lakukan standard normalization pada data dimasing-masing kolom! Apa yang terjadi setelah dilakukan normalisasi?\n"
   ]
  },
  {
   "cell_type": "markdown",
   "metadata": {
    "colab_type": "text",
    "collapsed": true,
    "id": "OEPOX0d9XU0N"
   },
   "source": [
    "Jawaban:"
   ]
  },
  {
   "cell_type": "code",
   "execution_count": null,
   "metadata": {
    "colab_type": "text",
    "collapsed": true,
    "id": "6mQHstDpXU0T"
   },
   "outputs": [],
   "source": [
    "#1."
   ]
  },
  {
   "cell_type": "code",
   "execution_count": null,
   "metadata": {
    "colab_type": "text",
    "collapsed": true,
    "id": "cWr_gBOgXU0Y"
   },
   "outputs": [],
   "source": [
    "#2."
   ]
  },
  {
   "cell_type": "code",
   "execution_count": null,
   "metadata": {
    "colab_type": "text",
    "collapsed": true,
    "id": "JQ0OcoPZXU0c"
   },
   "outputs": [],
   "source": [
    "#3."
   ]
  },
  {
   "cell_type": "code",
   "execution_count": null,
   "metadata": {
    "colab_type": "text",
    "collapsed": true,
    "id": "3Ly_VOA5XU0e"
   },
   "outputs": [],
   "source": [
    "#4."
   ]
  },
  {
   "cell_type": "code",
   "execution_count": null,
   "metadata": {
    "colab_type": "text",
    "collapsed": true,
    "id": "C3Lf2V64XU0k"
   },
   "outputs": [],
   "source": [
    "#5."
   ]
  },
  {
   "cell_type": "code",
   "execution_count": null,
   "metadata": {
    "colab_type": "text",
    "collapsed": true,
    "id": "rfdfJjC4XU0m"
   },
   "outputs": [],
   "source": [
    "#6."
   ]
  },
  {
   "cell_type": "code",
   "execution_count": null,
   "metadata": {
    "colab_type": "text",
    "collapsed": true,
    "id": "zcOqAlnlXU0p"
   },
   "outputs": [],
   "source": [
    "#7."
   ]
  },
  {
   "cell_type": "code",
   "execution_count": 1,
   "metadata": {
    "collapsed": true
   },
   "outputs": [],
   "source": [
    "#8"
   ]
  },
  {
   "cell_type": "markdown",
   "metadata": {
    "colab_type": "text",
    "id": "nM8fuH40XU0r"
   },
   "source": [
    "<b><i>Algebraic and Geometric Views</i></b>\n",
    "\n",
    "8. Lakukan proyeksi orthogonal pada data kolom 'alcohol' dan 'malic_acid' terhadap persamaan x1=x2 (serupa dengan persamaan linear y=x untuk sumbu x dan y)!\n",
    "9. Buatlah scatter plot 2D dari hasil proyeksi orthogonal tersebut dengan warna/simbol berbeda untuk kelas yang berbeda!\n",
    "10. Apakah garis x1=x2 berhasil memisahkan kelas yang satu dengan kelas yang lainnya pada data ? Jelaskan jawaban Anda dengan menganalisis hasil plot Anda!\n"
   ]
  },
  {
   "cell_type": "markdown",
   "metadata": {
    "colab_type": "text",
    "collapsed": true,
    "id": "5PDtwcEuXU0t"
   },
   "source": [
    "Jawaban:"
   ]
  },
  {
   "cell_type": "code",
   "execution_count": 2,
   "metadata": {
    "colab_type": "text",
    "collapsed": true,
    "id": "utTigxsaXU0z"
   },
   "outputs": [],
   "source": [
    "#1."
   ]
  },
  {
   "cell_type": "code",
   "execution_count": 3,
   "metadata": {
    "colab_type": "text",
    "collapsed": true,
    "id": "RcBdp4GQXU02"
   },
   "outputs": [],
   "source": [
    "#2."
   ]
  },
  {
   "cell_type": "code",
   "execution_count": 4,
   "metadata": {
    "colab_type": "text",
    "collapsed": true,
    "id": "mS0k4yE_XU06"
   },
   "outputs": [],
   "source": [
    "#3."
   ]
  },
  {
   "cell_type": "markdown",
   "metadata": {
    "colab_type": "text",
    "id": "kNjuhTyoXU0-"
   },
   "source": [
    "<b><i>Probabilistic View</i></b>\n",
    "\n",
    "11. Dengan satu kali percobaan, hitunglah probabilitas dimana Anda dapat memilih wine yang memiliki kandungan Flavanoids kurang dari 1 mg/L!\n",
    "12. Dengan 25 kali percobaan, hitunglah probabilitas dimana Anda dapat memilih 5 wine yang memiliki kandungan Flavanoids kurang dari 1 mg/L!\n"
   ]
  },
  {
   "cell_type": "markdown",
   "metadata": {
    "colab_type": "text",
    "collapsed": true,
    "id": "D2-it1IRXU1E"
   },
   "source": [
    "Jawaban:"
   ]
  },
  {
   "cell_type": "code",
   "execution_count": null,
   "metadata": {
    "colab_type": "text",
    "collapsed": true,
    "id": "K4ctwRGCXU1K"
   },
   "outputs": [],
   "source": [
    "#1."
   ]
  },
  {
   "cell_type": "code",
   "execution_count": null,
   "metadata": {
    "colab_type": "text",
    "collapsed": true,
    "id": "x9Q-_HR3XU1P"
   },
   "outputs": [],
   "source": [
    "#2."
   ]
  }
 ],
 "metadata": {
  "colab": {
   "name": "Tugas+1.ipynb",
   "provenance": [],
   "version": "0.3.2"
  },
  "kernelspec": {
   "display_name": "Python 3",
   "language": "python",
   "name": "python3"
  },
  "language_info": {
   "codemirror_mode": {
    "name": "ipython",
    "version": 3
   },
   "file_extension": ".py",
   "mimetype": "text/x-python",
   "name": "python",
   "nbconvert_exporter": "python",
   "pygments_lexer": "ipython3",
   "version": "3.7.1"
  }
 },
 "nbformat": 4,
 "nbformat_minor": 1
}
