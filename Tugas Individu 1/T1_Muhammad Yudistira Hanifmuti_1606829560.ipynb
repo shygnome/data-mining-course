{
 "cells": [
  {
   "cell_type": "markdown",
   "metadata": {
    "colab_type": "text",
    "id": "8sgcqWVxXUzw"
   },
   "source": [
    "<h2><center>Tugas 1 Data Mining 2019/2020</center></h2>\n"
   ]
  },
  {
   "cell_type": "markdown",
   "metadata": {
    "colab_type": "text",
    "id": "OAAl2YX3XhXY"
   },
   "source": [
    "<center><font color=\"red\">Deadline: 19 Oktober 2019 pukul 23.55</font><center>\n",
    "\n",
    "---\n",
    "\n",
    "\n",
    "\n"
   ]
  },
  {
   "cell_type": "markdown",
   "metadata": {
    "colab_type": "text",
    "id": "bWjGg2x4XUz4"
   },
   "source": [
    "<h4>Nama    :  Muhammad Yudistira Hanifmuti</h4>\n",
    "<h4>NPM     :  1606829560</h4>"
   ]
  },
  {
   "cell_type": "markdown",
   "metadata": {
    "colab_type": "text",
    "id": "aKax0_7QXUz6"
   },
   "source": [
    "<b> Petunjuk Umum: </b>\n",
    "\n",
    "1. Kerjakanlah soal-soal berikut dengan menggunakan data Wine yang telah tersedia pada library scikit-learn. Lakukan pengolahan data dan perhitungan menggunakan bahasa pemrograman Python. Perhitungan tidak boleh menggunakan fungsi yang sudah tersedia di dalam library, eg. menghitung mean dengan menggunakan numpy.mean(...) atau mengitung covariance dengan menggunakan numpy.cov(..).\n",
    "\n",
    "2. Gunakan template Jupyter notebook yang telah disediakan untuk menjawab soal.\n",
    "\n",
    "3. Format penulisan nama file di Jupyter notebook: T1_Nama_NIM.ipynb\n",
    "\n",
    "4. Kumpulkan pada slot yang disediakan di scele. Deadline: 19 Oktober 2019 pukul 23.55. \n",
    "\n"
   ]
  },
  {
   "cell_type": "markdown",
   "metadata": {
    "colab_type": "text",
    "id": "Yxdl4DWbXUz-"
   },
   "source": [
    "<h5>*) Tulis jawaban ditempat yang sudah disediakan</h5>\n",
    "\n"
   ]
  },
  {
   "cell_type": "markdown",
   "metadata": {
    "colab_type": "text",
    "id": "J2XF0rOfXU0D"
   },
   "source": [
    "<b><i>Data processing</i></b>\n",
    "\n",
    "1. Berapa banyak instances dan dimensi dari data Wine tersebut?\n",
    "2. Hitunglah range, Interquartile range dan variance dari masing-masing kolom!\n",
    "3. Buatlah scatter plot 2D dari data kolom 'alcohol' dan 'malic_acid'!\n",
    "4. Dengan data dari kolom 'alcohol' dan 'malic_acid', ubah data menjadi centered data matrix!\n",
    "5. Hitunglah mean data kolom 'alcohol' dan 'malic_acid' dari centered data matrix!\n",
    "6. Buatlah scatter 2 plot 2D, yaitu:\n",
    "<dd>a. scatter plot 2D dari centered data matrix</dd>\n",
    "<dd>b. scatter plot 2D dari centered data matrix dengan memberikan warna/simbol berbeda untuk kelas yang berbeda.</dd> \n",
    "7. Hitunglah covariance matrix data kolom 'alcohol' dan 'malic_acid' dari centered data matrix!\n",
    "8. Lakukan standard normalization pada data dimasing-masing kolom! Apa yang terjadi setelah dilakukan normalisasi?\n"
   ]
  },
  {
   "cell_type": "markdown",
   "metadata": {
    "colab_type": "text",
    "collapsed": true,
    "id": "OEPOX0d9XU0N"
   },
   "source": [
    "Jawaban:"
   ]
  },
  {
   "cell_type": "code",
   "execution_count": 1,
   "metadata": {
    "colab_type": "text",
    "id": "6mQHstDpXU0T"
   },
   "outputs": [
    {
     "name": "stdout",
     "output_type": "stream",
     "text": [
      "Banyak instances dari data Wine adalah 178\n",
      "Dimensi dari data Wine adalah 13\n"
     ]
    }
   ],
   "source": [
    "#1.\n",
    "\n",
    "from sklearn.datasets import load_wine\n",
    "\n",
    "dataset = load_wine()\n",
    "wine = load_wine()\n",
    "data = dataset.data\n",
    "print('Banyak instances dari data Wine adalah', data.shape[0])\n",
    "print('Dimensi dari data Wine adalah', data.shape[1])"
   ]
  },
  {
   "cell_type": "code",
   "execution_count": 2,
   "metadata": {
    "colab_type": "text",
    "id": "cWr_gBOgXU0Y"
   },
   "outputs": [
    {
     "name": "stdout",
     "output_type": "stream",
     "text": [
      "Berikut adalah perhitungan range, interquartile range (IQR) dan variance untuk setiap kolom :\n",
      "\n",
      "1 ) alcohol\n",
      "range : 3.8000000000000007\n",
      "IQR : 1.3150000000000013\n",
      "variance : 0.6553597304633255\n",
      "\n",
      "2 ) malic_acid\n",
      "range : 5.06\n",
      "IQR : 1.4799999999999998\n",
      "variance : 1.2410040809241256\n",
      "\n",
      "3 ) ash\n",
      "range : 1.8699999999999999\n",
      "IQR : 0.34750000000000014\n",
      "variance : 0.0748418002777427\n",
      "\n",
      "4 ) alcalinity_of_ash\n",
      "range : 19.4\n",
      "IQR : 4.300000000000001\n",
      "variance : 11.09003061482136\n",
      "\n",
      "5 ) magnesium\n",
      "range : 92.0\n",
      "IQR : 19.0\n",
      "variance : 202.8433278626436\n",
      "\n",
      "6 ) total_phenols\n",
      "range : 2.9\n",
      "IQR : 1.0574999999999999\n",
      "variance : 0.3894890323191517\n",
      "\n",
      "7 ) flavanoids\n",
      "range : 4.74\n",
      "IQR : 1.6700000000000002\n",
      "variance : 0.9921135115515718\n",
      "\n",
      "8 ) nonflavanoid_phenols\n",
      "range : 0.53\n",
      "IQR : 0.16749999999999998\n",
      "variance : 0.015401619113748264\n",
      "\n",
      "9 ) proanthocyanins\n",
      "range : 3.17\n",
      "IQR : 0.7\n",
      "variance : 0.32575424820098475\n",
      "\n",
      "10 ) color_intensity\n",
      "range : 11.72\n",
      "IQR : 2.9800000000000004\n",
      "variance : 5.344255847629093\n",
      "\n",
      "11 ) hue\n",
      "range : 1.23\n",
      "IQR : 0.33750000000000013\n",
      "variance : 0.051951449690695616\n",
      "\n",
      "12 ) od280/od315_of_diluted_wines\n",
      "range : 2.73\n",
      "IQR : 1.2325\n",
      "variance : 0.501254462820351\n",
      "\n",
      "13 ) proline\n",
      "range : 1402.0\n",
      "IQR : 484.5\n",
      "variance : 98609.60096578715\n"
     ]
    }
   ],
   "source": [
    "#2.\n",
    "\n",
    "import numpy as np\n",
    "import pandas as pd\n",
    "\n",
    "def sample_range(arr):\n",
    "    return np.max(arr) - np.min(arr)\n",
    "\n",
    "def sample_iqr(arr):\n",
    "    return np.quantile(arr, 0.75) - np.quantile(arr, 0.25)\n",
    "\n",
    "def sample_mean(arr):\n",
    "    return np.sum(arr)/arr.size\n",
    "\n",
    "def sample_var(arr):\n",
    "    deviation = arr - sample_mean(arr)\n",
    "    return np.sum(np.power(deviation, 2))/arr.size\n",
    "\n",
    "\n",
    "df = pd.DataFrame(data= np.c_[wine['data'], wine['target']], columns= wine['feature_names'] + ['target'])\n",
    "df['target'] = df['target'].astype(str)\n",
    "feat_names = dataset.feature_names\n",
    "\n",
    "print('Berikut adalah perhitungan range, interquartile range (IQR) dan variance untuk setiap kolom :')\n",
    "\n",
    "for i, feature in enumerate(feat_names):\n",
    "    data_column = df[feature]\n",
    "    print()\n",
    "    print(i+1, ')', feature)\n",
    "    print('range :', sample_range(data_column))\n",
    "    print('IQR :', sample_iqr(data_column))\n",
    "    print('variance :', sample_var(data_column))"
   ]
  },
  {
   "cell_type": "code",
   "execution_count": 3,
   "metadata": {
    "colab_type": "text",
    "id": "JQ0OcoPZXU0c"
   },
   "outputs": [
    {
     "data": {
      "image/png": "[encoded data removed]",
      "text/plain": [
       "<Figure size 432x288 with 1 Axes>"
      ]
     },
     "metadata": {
      "needs_background": "light"
     },
     "output_type": "display_data"
    }
   ],
   "source": [
    "#3.\n",
    "\n",
    "import matplotlib.pyplot as plt\n",
    "\n",
    "%matplotlib inline\n",
    "\n",
    "x, y = df['alcohol'], df['malic_acid']\n",
    "\n",
    "p1 = plt.scatter(x, y)\n",
    "plt.title('Scatter plot 2D dari data Wine')\n",
    "plt.xlabel('alcohol')\n",
    "plt.ylabel('malic_acid')\n",
    "plt.grid()\n",
    "plt.show()"
   ]
  },
  {
   "cell_type": "code",
   "execution_count": 4,
   "metadata": {
    "colab_type": "text",
    "id": "3Ly_VOA5XU0e"
   },
   "outputs": [
    {
     "name": "stdout",
     "output_type": "stream",
     "text": [
      "Data yang sudah diubah menjadi centered data matrix.\n",
      "\n",
      "Kolom \"alcohol\" :\n",
      "[ 1.22938202  0.19938202  0.15938202  1.36938202  0.23938202  1.19938202\n",
      "  1.38938202  1.05938202  1.82938202  0.85938202  1.09938202  1.11938202\n",
      "  0.74938202  1.74938202  1.37938202  0.62938202  1.29938202  0.82938202\n",
      "  1.18938202  0.63938202  1.05938202 -0.07061798  0.70938202 -0.15061798\n",
      "  0.49938202  0.04938202  0.38938202  0.29938202  0.86938202  1.01938202\n",
      "  0.72938202  0.57938202  0.67938202  0.75938202  0.50938202  0.47938202\n",
      "  0.27938202  0.04938202  0.06938202  1.21938202  0.55938202  0.40938202\n",
      "  0.87938202  0.23938202  0.04938202  1.20938202  1.37938202  0.89938202\n",
      "  1.09938202  0.93938202  0.04938202  0.82938202  0.81938202  0.76938202\n",
      "  0.73938202  0.55938202  1.21938202  0.28938202  0.71938202 -0.63061798\n",
      " -0.67061798 -0.36061798  0.66938202 -0.63061798 -0.83061798 -0.63061798\n",
      "  0.10938202 -0.63061798  0.33938202 -0.79061798 -0.71061798  0.85938202\n",
      "  0.48938202 -0.01061798 -1.04061798 -1.34061798  0.02938202 -1.16061798\n",
      " -0.67061798 -0.30061798 -1.00061798 -0.28061798 -0.92061798  0.04938202\n",
      " -1.16061798 -0.33061798 -0.84061798 -1.35061798 -1.36061798 -0.92061798\n",
      " -0.92061798 -1.00061798 -0.31061798 -0.71061798 -1.38061798 -0.53061798\n",
      " -1.19061798 -0.71061798 -0.63061798 -0.71061798 -0.92061798 -0.40061798\n",
      " -0.66061798 -1.18061798 -0.49061798 -0.58061798 -0.75061798 -0.28061798\n",
      " -0.78061798 -1.39061798 -1.54061798 -0.48061798 -1.24061798 -1.59061798\n",
      " -0.92061798 -1.97061798 -1.18061798 -0.58061798 -0.23061798 -1.00061798\n",
      " -1.55061798 -1.44061798 -0.58061798  0.04938202 -1.13061798 -0.93061798\n",
      " -0.57061798 -1.21061798 -0.63061798 -0.96061798 -0.14061798 -0.12061798\n",
      " -0.19061798 -0.30061798 -0.49061798 -0.40061798 -0.75061798 -0.47061798\n",
      "  0.48938202 -0.16061798 -0.07061798  0.35938202  0.51938202  0.61938202\n",
      " -0.75061798  0.15938202  0.87938202 -0.13061798  0.31938202  0.07938202\n",
      "  0.49938202 -0.21061798  0.10938202  0.22938202 -0.42061798  0.16938202\n",
      "  0.83938202 -0.55061798  1.33938202  0.47938202 -0.64061798  0.68938202\n",
      " -0.15061798 -0.04061798  0.77938202  0.72938202  0.44938202 -0.18061798\n",
      "  0.57938202  0.39938202 -0.80061798 -0.23061798  1.15938202  0.70938202\n",
      "  0.39938202  0.26938202  0.16938202  1.12938202]\n",
      "\n",
      "Kolom \"malic_acid\" :\n",
      "[-0.62634831 -0.55634831  0.02365169 -0.38634831  0.25365169 -0.57634831\n",
      " -0.46634831 -0.18634831 -0.69634831 -0.98634831 -0.17634831 -0.85634831\n",
      " -0.60634831 -0.60634831 -0.46634831 -0.52634831 -0.41634831 -0.76634831\n",
      " -0.74634831  0.76365169 -0.70634831  1.46365169 -0.47634831 -0.73634831\n",
      " -0.52634831 -0.28634831 -0.56634831 -0.61634831 -0.43634831 -0.65634831\n",
      " -0.83634831 -0.67634831 -0.50634831 -0.80634831 -0.53634831 -0.52634831\n",
      " -0.69634831 -0.68634831 -0.83634831  1.65365169 -0.62634831  1.50365169\n",
      " -0.44634831  1.64365169 -0.56634831  1.70365169  1.25365169 -0.65634831\n",
      " -0.31634831 -0.60634831 -0.60634831 -0.68634831 -0.58634831 -0.43634831\n",
      " -0.66634831 -0.60634831 -0.63634831 -0.36634831 -0.90634831 -1.39634831\n",
      " -1.23634831 -0.97634831 -1.08634831 -1.20634831 -0.88634831 -1.12634831\n",
      " -1.32634831 -1.16634831 -1.39634831 -1.14634831 -0.72634831 -0.82634831\n",
      " -0.67634831 -0.66634831 -1.24634831 -0.45634831 -1.43634831  0.55365169\n",
      " -1.34634831  1.53365169 -1.41634831 -0.52634831 -1.20634831  1.52365169\n",
      " -1.44634831 -1.35634831 -0.72634831 -0.66634831 -0.27634831 -1.00634831\n",
      " -0.50634831 -0.82634831 -0.80634831  0.49365169 -0.34634831 -0.81634831\n",
      " -0.21634831 -0.92634831 -1.26634831  0.83365169 -0.25634831 -0.99634831\n",
      "  0.11365169 -0.61634831 -0.60634831  0.21365169 -0.60634831 -0.58634831\n",
      " -1.04634831 -0.98634831  1.40365169  0.09365169  0.34365169 -1.59634831\n",
      " -0.94634831 -0.82634831 -0.86634831 -0.72634831  1.09365169  1.09365169\n",
      "  0.06365169 -0.28634831  2.09365169  3.46365169  1.97365169 -0.17634831\n",
      " -0.80634831 -0.20634831 -0.70634831  1.96365169 -0.98634831  0.65365169\n",
      " -0.02634831  1.21365169 -1.09634831  0.12365169  2.38365169  3.17365169\n",
      "  1.25365169  0.62365169  0.47365169  0.22365169  0.83365169  2.61365169\n",
      "  1.54365169  1.23365169  2.70365169  2.27365169  0.90365169  1.56365169\n",
      "  0.78365169  0.33365169 -0.43634831  0.96365169 -1.04634831  2.85365169\n",
      "  1.78365169  0.69365169 -0.65634831 -0.66634831  1.49365169  0.92365169\n",
      "  0.93365169  1.11365169  0.42365169  2.02365169  1.36365169  1.03365169\n",
      "  0.24365169  2.26365169  0.69365169  0.05365169  0.17365169  3.31365169\n",
      "  1.57365169  1.94365169  0.25365169  1.76365169]\n"
     ]
    }
   ],
   "source": [
    "#4.\n",
    "\n",
    "# Dengan data dari kolom 'alcohol' dan 'malic_acid', ubah data menjadi centered data matrix!\n",
    "\n",
    "def mean_matrix(arr):\n",
    "    return np.sum(arr, axis=0)/arr.shape[0]\n",
    "\n",
    "def centered_data_matrix(arr):\n",
    "    return arr - mean_matrix(arr)\n",
    "    \n",
    "centered_data = centered_data_matrix(data)\n",
    "centered_df = pd.DataFrame(data= np.c_[centered_data, wine['target']], columns= wine['feature_names'] + ['target'])\n",
    "centered_df['target'] = centered_df['target'].astype(str)\n",
    "alcohol, malic_acid = centered_data[:, feat_names.index('alcohol')], centered_data[:, feat_names.index('malic_acid')]\n",
    "\n",
    "print('Data yang sudah diubah menjadi centered data matrix.')\n",
    "print()\n",
    "print('Kolom \"alcohol\" :')\n",
    "print(alcohol)\n",
    "print()\n",
    "print('Kolom \"malic_acid\" :')\n",
    "print(malic_acid)"
   ]
  },
  {
   "cell_type": "code",
   "execution_count": 5,
   "metadata": {
    "colab_type": "text",
    "id": "C3Lf2V64XU0k"
   },
   "outputs": [
    {
     "name": "stdout",
     "output_type": "stream",
     "text": [
      "Mean dari centered data matrix adalah sebagai berikut.\n",
      "Kolom \"alcohol\" : 6.386900995596406e-15\n",
      "Kolom \"alcohol\" : 3.5926318100229784e-16\n"
     ]
    }
   ],
   "source": [
    "#5.\n",
    "\n",
    "# Hitunglah mean data kolom 'alcohol' dan 'malic_acid' dari centered data matrix!\n",
    "\n",
    "print('Mean dari centered data matrix adalah sebagai berikut.')\n",
    "print('Kolom \"alcohol\" :', sample_mean(centered_df['alcohol']))\n",
    "print('Kolom \"alcohol\" :', sample_mean(centered_df['malic_acid']))"
   ]
  },
  {
   "cell_type": "code",
   "execution_count": 6,
   "metadata": {
    "colab_type": "text",
    "id": "rfdfJjC4XU0m",
    "scrolled": false
   },
   "outputs": [
    {
     "data": {
      "image/png": "[encoded data removed]",
      "text/plain": [
       "<Figure size 432x288 with 1 Axes>"
      ]
     },
     "metadata": {
      "needs_background": "light"
     },
     "output_type": "display_data"
    },
    {
     "data": {
      "image/png": "[encoded data removed]",
      "text/plain": [
       "<Figure size 432x288 with 1 Axes>"
      ]
     },
     "metadata": {
      "needs_background": "light"
     },
     "output_type": "display_data"
    }
   ],
   "source": [
    "#6.\n",
    "\n",
    "# Buatlah scatter 2 plot 2D, yaitu:\n",
    "# a. scatter plot 2D dari centered data matrix\n",
    "# b. scatter plot 2D dari centered data matrix dengan memberikan warna/simbol berbeda untuk kelas yang berbeda.\n",
    "\n",
    "import matplotlib.pyplot as plt\n",
    "\n",
    "%matplotlib inline\n",
    "\n",
    "s1 = plt.scatter(x=centered_df['alcohol'], y=centered_df['malic_acid'])\n",
    "\n",
    "plt.title('scatter plot 2D dari centered data matrix')\n",
    "plt.xlabel('alcohol')\n",
    "plt.ylabel('malic_acid')\n",
    "plt.grid()\n",
    "plt.show()\n",
    "\n",
    "# Plot each target\n",
    "target = list(set(centered_df['target']))\n",
    "color = ['red', 'blue', 'green']\n",
    "x, y = centered_df['alcohol'], centered_df['malic_acid']\n",
    "for i, val in enumerate(target):\n",
    "    idx = centered_df['target'] == val\n",
    "    plt.scatter(x[idx], y[idx], color=color[i])\n",
    "\n",
    "plt.title('scatter plot 2D dari centered data matrix dengan warna berbeda')\n",
    "plt.xlabel('alcohol')\n",
    "plt.ylabel('malic_acid')\n",
    "plt.grid()\n",
    "plt.show()"
   ]
  },
  {
   "cell_type": "code",
   "execution_count": 7,
   "metadata": {
    "colab_type": "text",
    "id": "zcOqAlnlXU0p",
    "scrolled": false
   },
   "outputs": [
    {
     "name": "stdout",
     "output_type": "stream",
     "text": [
      "Covariance matrix dari data kolom \"alcohol\" dan \"malic_acid\" dari centered data matrix adalah\n",
      "[[0.65906233 0.08561131]\n",
      " [0.08561131 1.2480154 ]]\n"
     ]
    }
   ],
   "source": [
    "#7.\n",
    "\n",
    "# Hitunglah covariance matrix data kolom 'alcohol' dan 'malic_acid' dari centered data matrix!\n",
    "\n",
    "def cov(x, y):\n",
    "    x_mean, y_mean = sample_mean(x), sample_mean(y)\n",
    "    return np.sum((x - x_mean)*(y-y_mean))/(x.size - 1)\n",
    "    \n",
    "def bivariate_cov_mat(arr):\n",
    "    return np.array([\n",
    "        [cov(arr[:,0], arr[:,0]), cov(arr[:,0], arr[:,1])],\n",
    "        [cov(arr[:,1], arr[:,0]), cov(arr[:,1], arr[:,1])]\n",
    "    ])\n",
    "\n",
    "print('Covariance matrix dari data kolom \"alcohol\" dan \"malic_acid\" dari centered data matrix adalah')\n",
    "print(bivariate_cov_mat(centered_df[['alcohol', 'malic_acid']].values))"
   ]
  },
  {
   "cell_type": "code",
   "execution_count": 8,
   "metadata": {},
   "outputs": [
    {
     "name": "stdout",
     "output_type": "stream",
     "text": [
      "Akibat dari normalisasi adalah data memiliki mean sama dengan 0 dan standar deviasi (atau variance) sama dengan 1\n",
      "\n",
      "Berikut adalah perhitungan mean dan variance untuk setiap kolom setelah dilakukan standarisasi:\n",
      "\n",
      "1 ) alcohol\n",
      "mean : 7.903789982050553e-15\n",
      "variance : 1.0\n",
      "\n",
      "2 ) malic_acid\n",
      "mean : 3.193450497798203e-16\n",
      "variance : 1.0000000000000002\n",
      "\n",
      "3 ) ash\n",
      "mean : -4.0679070598906016e-15\n",
      "variance : 1.0000000000000002\n",
      "\n",
      "4 ) alcalinity_of_ash\n",
      "mean : -3.991813122247754e-17\n",
      "variance : 1.0\n",
      "\n",
      "5 ) magnesium\n",
      "mean : -3.991813122247754e-17\n",
      "variance : 1.0\n",
      "\n",
      "6 ) total_phenols\n",
      "mean : 0.0\n",
      "variance : 0.9999999999999999\n",
      "\n",
      "7 ) flavanoids\n",
      "mean : 9.979532805619385e-16\n",
      "variance : 1.0\n",
      "\n",
      "8 ) nonflavanoid_phenols\n",
      "mean : -5.588538371146855e-16\n",
      "variance : 1.0\n",
      "\n",
      "9 ) proanthocyanins\n",
      "mean : -1.6965205769552954e-15\n",
      "variance : 0.9999999999999999\n",
      "\n",
      "10 ) color_intensity\n",
      "mean : -3.4429388179386877e-16\n",
      "variance : 1.0\n",
      "\n",
      "11 ) hue\n",
      "mean : 1.6765615113440566e-15\n",
      "variance : 1.0\n",
      "\n",
      "12 ) od280/od315_of_diluted_wines\n",
      "mean : 2.1954972172362645e-15\n",
      "variance : 1.0\n",
      "\n",
      "13 ) proline\n",
      "mean : -1.5967252488991015e-16\n",
      "variance : 1.0\n"
     ]
    }
   ],
   "source": [
    "#8\n",
    "\n",
    "# Lakukan standard normalization pada data dimasing-masing kolom! Apa yang terjadi setelah dilakukan normalisasi?\n",
    "\n",
    "def standard_scaler(arr):\n",
    "    centered_arr = arr - mean_matrix(arr)\n",
    "    variances = np.array(list(map(sample_var, arr.T)))\n",
    "    return centered_arr/np.sqrt(variances)\n",
    "\n",
    "standarized = standard_scaler(data)\n",
    "standarized_df = pd.DataFrame(data= np.c_[standarized, wine['target']], columns= wine['feature_names'] + ['target'])\n",
    "standarized_df['target'] = standarized_df['target'].astype(str)\n",
    "\n",
    "print('Akibat dari normalisasi adalah data memiliki mean sama dengan 0 dan standar deviasi (atau variance) sama dengan 1')\n",
    "print()\n",
    "print('Berikut adalah perhitungan mean dan variance untuk setiap kolom setelah dilakukan standarisasi:')\n",
    "\n",
    "for i, feature in enumerate(feat_names):\n",
    "    data_column = standarized_df[feature]\n",
    "    print()\n",
    "    print(i+1, ')', feature)\n",
    "    print('mean :', sample_mean(data_column))\n",
    "    print('variance :', sample_var(data_column))"
   ]
  },
  {
   "cell_type": "markdown",
   "metadata": {
    "colab_type": "text",
    "id": "nM8fuH40XU0r"
   },
   "source": [
    "<b><i>Algebraic and Geometric Views</i></b>\n",
    "\n",
    "8. Lakukan proyeksi orthogonal pada data kolom 'alcohol' dan 'malic_acid' terhadap persamaan x1=x2 (serupa dengan persamaan linear y=x untuk sumbu x dan y)!\n",
    "9. Buatlah scatter plot 2D dari hasil proyeksi orthogonal tersebut dengan warna/simbol berbeda untuk kelas yang berbeda!\n",
    "10. Apakah garis x1=x2 berhasil memisahkan kelas yang satu dengan kelas yang lainnya pada data ? Jelaskan jawaban Anda dengan menganalisis hasil plot Anda!\n"
   ]
  },
  {
   "cell_type": "markdown",
   "metadata": {
    "colab_type": "text",
    "collapsed": true,
    "id": "5PDtwcEuXU0t"
   },
   "source": [
    "Jawaban:"
   ]
  },
  {
   "cell_type": "code",
   "execution_count": 9,
   "metadata": {
    "colab_type": "text",
    "id": "utTigxsaXU0z"
   },
   "outputs": [
    {
     "name": "stdout",
     "output_type": "stream",
     "text": [
      "Berikut hasil proyeksi orthogonal terhadap x1=x2 :\n",
      "\n",
      "[[7.97  7.97 ]\n",
      " [7.49  7.49 ]\n",
      " [7.76  7.76 ]\n",
      " [8.16  8.16 ]\n",
      " [7.915 7.915]\n",
      " [7.98  7.98 ]\n",
      " [8.13  8.13 ]\n",
      " [8.105 8.105]\n",
      " [8.235 8.235]\n",
      " [7.605 7.605]\n",
      " [8.13  8.13 ]\n",
      " [7.8   7.8  ]\n",
      " [7.74  7.74 ]\n",
      " [8.24  8.24 ]\n",
      " [8.125 8.125]\n",
      " [7.72  7.72 ]\n",
      " [8.11  8.11 ]\n",
      " [7.7   7.7  ]\n",
      " [7.89  7.89 ]\n",
      " [8.37  8.37 ]\n",
      " [7.845 7.845]\n",
      " [8.365 8.365]\n",
      " [7.785 7.785]\n",
      " [7.225 7.225]\n",
      " [7.655 7.655]\n",
      " [7.55  7.55 ]\n",
      " [7.58  7.58 ]\n",
      " [7.51  7.51 ]\n",
      " [7.885 7.885]\n",
      " [7.85  7.85 ]\n",
      " [7.615 7.615]\n",
      " [7.62  7.62 ]\n",
      " [7.755 7.755]\n",
      " [7.645 7.645]\n",
      " [7.655 7.655]\n",
      " [7.645 7.645]\n",
      " [7.46  7.46 ]\n",
      " [7.35  7.35 ]\n",
      " [7.285 7.285]\n",
      " [9.105 9.105]\n",
      " [7.635 7.635]\n",
      " [8.625 8.625]\n",
      " [7.885 7.885]\n",
      " [8.61  8.61 ]\n",
      " [7.41  7.41 ]\n",
      " [9.125 9.125]\n",
      " [8.985 8.985]\n",
      " [7.79  7.79 ]\n",
      " [8.06  8.06 ]\n",
      " [7.835 7.835]\n",
      " [7.39  7.39 ]\n",
      " [7.74  7.74 ]\n",
      " [7.785 7.785]\n",
      " [7.835 7.835]\n",
      " [7.705 7.705]\n",
      " [7.645 7.645]\n",
      " [7.96  7.96 ]\n",
      " [7.63  7.63 ]\n",
      " [7.575 7.575]\n",
      " [6.655 6.655]\n",
      " [6.715 6.715]\n",
      " [7.    7.   ]\n",
      " [7.46  7.46 ]\n",
      " [6.75  6.75 ]\n",
      " [6.81  6.81 ]\n",
      " [6.79  6.79 ]\n",
      " [7.06  7.06 ]\n",
      " [6.77  6.77 ]\n",
      " [7.14  7.14 ]\n",
      " [6.7   6.7  ]\n",
      " [6.95  6.95 ]\n",
      " [7.685 7.685]\n",
      " [7.575 7.575]\n",
      " [7.33  7.33 ]\n",
      " [6.525 6.525]\n",
      " [6.77  6.77 ]\n",
      " [6.965 6.965]\n",
      " [7.365 7.365]\n",
      " [6.66  6.66 ]\n",
      " [8.285 8.285]\n",
      " [6.46  6.46 ]\n",
      " [7.265 7.265]\n",
      " [6.605 6.605]\n",
      " [8.455 8.455]\n",
      " [6.365 6.365]\n",
      " [6.825 6.825]\n",
      " [6.885 6.885]\n",
      " [6.66  6.66 ]\n",
      " [6.85  6.85 ]\n",
      " [6.705 6.705]\n",
      " [6.955 6.955]\n",
      " [6.755 6.755]\n",
      " [7.11  7.11 ]\n",
      " [7.56  7.56 ]\n",
      " [6.805 6.805]\n",
      " [6.995 6.995]\n",
      " [6.965 6.965]\n",
      " [6.85  6.85 ]\n",
      " [6.72  6.72 ]\n",
      " [7.73  7.73 ]\n",
      " [7.08  7.08 ]\n",
      " [6.97  6.97 ]\n",
      " [7.395 7.395]\n",
      " [6.77  6.77 ]\n",
      " [7.12  7.12 ]\n",
      " [7.485 7.485]\n",
      " [6.99  6.99 ]\n",
      " [7.235 7.235]\n",
      " [6.755 6.755]\n",
      " [6.48  6.48 ]\n",
      " [7.6   7.6  ]\n",
      " [7.475 7.475]\n",
      " [7.22  7.22 ]\n",
      " [6.075 6.075]\n",
      " [6.735 6.735]\n",
      " [6.27  6.27 ]\n",
      " [6.645 6.645]\n",
      " [7.015 7.015]\n",
      " [8.1   8.1  ]\n",
      " [7.715 7.715]\n",
      " [6.925 6.925]\n",
      " [6.805 6.805]\n",
      " [8.425 8.425]\n",
      " [9.425 9.425]\n",
      " [8.09  8.09 ]\n",
      " [7.115 7.115]\n",
      " [6.98  6.98 ]\n",
      " [6.96  6.96 ]\n",
      " [7.    7.   ]\n",
      " [8.17  8.17 ]\n",
      " [7.105 7.105]\n",
      " [7.935 7.935]\n",
      " [7.56  7.56 ]\n",
      " [8.125 8.125]\n",
      " [6.875 6.875]\n",
      " [7.53  7.53 ]\n",
      " [8.485 8.485]\n",
      " [9.02  9.02 ]\n",
      " [8.54  8.54 ]\n",
      " [7.9   7.9  ]\n",
      " [7.87  7.87 ]\n",
      " [7.96  7.96 ]\n",
      " [8.345 8.345]\n",
      " [9.285 9.285]\n",
      " [8.065 8.065]\n",
      " [8.365 8.365]\n",
      " [9.46  9.46 ]\n",
      " [8.74  8.74 ]\n",
      " [8.28  8.28 ]\n",
      " [8.49  8.49 ]\n",
      " [8.31  8.31 ]\n",
      " [7.73  7.73 ]\n",
      " [7.505 7.505]\n",
      " [8.265 8.265]\n",
      " [6.935 6.935]\n",
      " [9.18  9.18 ]\n",
      " [8.98  8.98 ]\n",
      " [7.74  7.74 ]\n",
      " [8.01  8.01 ]\n",
      " [7.575 7.575]\n",
      " [8.095 8.095]\n",
      " [8.475 8.475]\n",
      " [8.06  8.06 ]\n",
      " [8.205 8.205]\n",
      " [8.27  8.27 ]\n",
      " [9.045 9.045]\n",
      " [8.575 8.575]\n",
      " [8.095 8.095]\n",
      " [8.08  8.08 ]\n",
      " [9.    9.   ]\n",
      " [7.615 7.615]\n",
      " [7.58  7.58 ]\n",
      " [8.335 8.335]\n",
      " [9.68  9.68 ]\n",
      " [8.655 8.655]\n",
      " [8.775 8.775]\n",
      " [7.88  7.88 ]\n",
      " [9.115 9.115]]\n"
     ]
    }
   ],
   "source": [
    "#1.\n",
    "\n",
    "# Lakukan proyeksi orthogonal pada data kolom 'alcohol' dan 'malic_acid' terhadap persamaan x1=x2 (serupa dengan persamaan linear y=x untuk sumbu x dan y)!\n",
    "\n",
    "def projection(a, b):\n",
    "    coef = np.inner(a, b)/np.inner(a, a)\n",
    "    return np.multiply(coef.T, a)\n",
    "\n",
    "data_vector = df[['alcohol', 'malic_acid']].values\n",
    "unit_vector = np.array([[1, 1]])\n",
    "proj = projection(unit_vector, data_vector)\n",
    "df['proj_x'], df['proj_y'] = proj[:, 0], proj[:, 1]\n",
    "\n",
    "print('Berikut hasil proyeksi orthogonal terhadap x1=x2 :\\n')\n",
    "print(projection(unit_vector, data_vector))"
   ]
  },
  {
   "cell_type": "code",
   "execution_count": 10,
   "metadata": {
    "colab_type": "text",
    "id": "RcBdp4GQXU02",
    "scrolled": true
   },
   "outputs": [
    {
     "data": {
      "image/png": "[encoded data removed]",
      "text/plain": [
       "<Figure size 432x288 with 1 Axes>"
      ]
     },
     "metadata": {
      "needs_background": "light"
     },
     "output_type": "display_data"
    }
   ],
   "source": [
    "#2.\n",
    "\n",
    "# Buatlah scatter plot 2D dari hasil proyeksi orthogonal tersebut dengan warna/simbol berbeda untuk kelas yang berbeda!\n",
    "\n",
    "# Plot each target\n",
    "target = list(set(centered_df['target']))\n",
    "color = ['red', 'blue', 'yellow']\n",
    "marker = ['o', '^', '*']\n",
    "x, y = df['proj_x'], df['proj_y']\n",
    "for i, val in enumerate(target):\n",
    "    idx = df['target'] == val\n",
    "    plt.scatter(x[idx], y[idx], color=color[i], marker=marker[i])\n",
    "\n",
    "plt.title('scatter plot 2D dari hasil proyeksi orthogonal')\n",
    "plt.xlabel('alcohol')\n",
    "plt.ylabel('malic_acid')\n",
    "plt.grid()\n",
    "plt.show()"
   ]
  },
  {
   "cell_type": "code",
   "execution_count": 11,
   "metadata": {
    "colab_type": "text",
    "id": "mS0k4yE_XU06"
   },
   "outputs": [
    {
     "name": "stdout",
     "output_type": "stream",
     "text": [
      "\n",
      "Garis x1 = x2 belum berhasil sepenuhnya memisahkan kelas yang satu dengan kelas yang lain. Terlihat bahwa masih ada kelas yang tercampur pada suatu bagian pada garis sehingga garis belum berhasil memisahkan dengan jelas. Walaupun sebenarnya sudah terlihat ada satu kelas yang sudah berkumpul pada satu bagian.\n",
      "\n"
     ]
    }
   ],
   "source": [
    "#3.\n",
    "\n",
    "# Apakah garis x1=x2 berhasil memisahkan kelas yang satu dengan kelas yang lainnya pada data ? Jelaskan jawaban Anda dengan menganalisis hasil plot Anda!\n",
    "\n",
    "jawaban =\"\"\"\n",
    "Garis x1 = x2 belum berhasil sepenuhnya memisahkan kelas yang satu dengan kelas yang lain. \\\n",
    "Terlihat bahwa masih ada kelas yang tercampur pada suatu bagian pada garis sehingga garis \\\n",
    "belum berhasil memisahkan dengan jelas. \\\n",
    "Walaupun sebenarnya sudah terlihat ada satu kelas yang sudah berkumpul pada satu bagian.\n",
    "\"\"\"\n",
    "\n",
    "print(jawaban)"
   ]
  },
  {
   "cell_type": "markdown",
   "metadata": {
    "colab_type": "text",
    "id": "kNjuhTyoXU0-"
   },
   "source": [
    "<b><i>Probabilistic View</i></b>\n",
    "\n",
    "11. Dengan satu kali percobaan, hitunglah probabilitas dimana Anda dapat memilih wine yang memiliki kandungan Flavanoids kurang dari 1 mg/L!\n",
    "12. Dengan 25 kali percobaan, hitunglah probabilitas dimana Anda dapat memilih 5 wine yang memiliki kandungan Flavanoids kurang dari 1 mg/L!\n"
   ]
  },
  {
   "cell_type": "markdown",
   "metadata": {
    "colab_type": "text",
    "collapsed": true,
    "id": "D2-it1IRXU1E"
   },
   "source": [
    "Jawaban:"
   ]
  },
  {
   "cell_type": "code",
   "execution_count": 12,
   "metadata": {
    "colab_type": "text",
    "id": "K4ctwRGCXU1K"
   },
   "outputs": [
    {
     "name": "stdout",
     "output_type": "stream",
     "text": [
      "Probabilitas memilih wine yang memiliki kandungan Flavanoids kurang dari 1mg/L adalah 0.2247191011235955\n"
     ]
    }
   ],
   "source": [
    "#1.\n",
    "\n",
    "# Dengan satu kali percobaan, hitunglah probabilitas dimana Anda dapat memilih wine yang memiliki kandungan Flavanoids kurang dari 1 mg/L!\n",
    "\n",
    "def combination(m, k):\n",
    "    return np.math.factorial(m)/(np.math.factorial(k) * np.math.factorial(m-k))\n",
    "\n",
    "def binomial_pmf(trials, success, prob):\n",
    "    return combination(trials, success) * prob ** success * (1 - prob) ** (trials - success)\n",
    "\n",
    "sample_space = len(df)\n",
    "target = len(df[df.flavanoids < 1.0])\n",
    "prob = target/sample_space\n",
    "\n",
    "print('Probabilitas memilih wine yang memiliki kandungan Flavanoids kurang dari 1mg/L adalah', binomial_pmf(1, 1, prob))"
   ]
  },
  {
   "cell_type": "code",
   "execution_count": 13,
   "metadata": {
    "colab_type": "text",
    "id": "x9Q-_HR3XU1P"
   },
   "outputs": [
    {
     "name": "stdout",
     "output_type": "stream",
     "text": [
      "Probabilitas memilih 5 wine yang memiliki kandungan Flavanoids kurang dari 1mg/L dalam 25 percobaan adalah 0.18737922693087627\n"
     ]
    }
   ],
   "source": [
    "#2.\n",
    "\n",
    "# Dengan 25 kali percobaan, hitunglah probabilitas dimana Anda dapat memilih 5 wine yang memiliki kandungan Flavanoids kurang dari 1 mg/L!\n",
    "\n",
    "print('Probabilitas memilih 5 wine yang memiliki kandungan Flavanoids kurang dari 1mg/L dalam 25 percobaan adalah', binomial_pmf(25, 5, prob))"
   ]
  }
 ],
 "metadata": {
  "colab": {
   "name": "Tugas+1.ipynb",
   "provenance": [],
   "version": "0.3.2"
  },
  "kernelspec": {
   "display_name": "Python 3",
   "language": "python",
   "name": "python3"
  },
  "language_info": {
   "codemirror_mode": {
    "name": "ipython",
    "version": 3
   },
   "file_extension": ".py",
   "mimetype": "text/x-python",
   "name": "python",
   "nbconvert_exporter": "python",
   "pygments_lexer": "ipython3",
   "version": "3.7.1"
  }
 },
 "nbformat": 4,
 "nbformat_minor": 1
}
