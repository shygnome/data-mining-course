{
 "cells": [
  {
   "cell_type": "markdown",
   "metadata": {
    "colab_type": "text",
    "id": "cOgF3m-Oo2kE"
   },
   "source": [
    "<h2><center>Tugas 3 Data Mining 2019/2020</center></h2>"
   ]
  },
  {
   "cell_type": "markdown",
   "metadata": {
    "colab_type": "text",
    "id": "DgqyG8Zyo2kK"
   },
   "source": [
    "<center><font color=\"red\">Deadline: 17 October 2019, 22:00WIB</font><center>\n",
    "\n",
    "---\n",
    "\n",
    "\n",
    "\n"
   ]
  },
  {
   "cell_type": "markdown",
   "metadata": {
    "colab_type": "text",
    "id": "1UCOtummo2kQ"
   },
   "source": [
    "<h4>Nama    : Muhammad Yudistira Hanifmuti </h4>\n",
    "<h4>NPM     : 1606829560 </h4>"
   ]
  },
  {
   "cell_type": "markdown",
   "metadata": {
    "colab_type": "text",
    "id": "gq1mXznao2kV"
   },
   "source": [
    "<b>Petunjuk umum:</b>\n",
    "1. Dataset yang digunakan pada tugas ini merupakan dataset diabetes yang dapat diunduh di https://bit.ly/2M5vioB\n",
    "2. Deskripsi atribut pada dataset dapat dilihat pada halaman tersebut.\n",
    "3. Lakukan pengolahan data dan perhitungan menggunakan bahasa pemrograman 4. Python. Gunakan template Jupyter notebook yang telah disediakan untuk menjawab soal.\n",
    "4. Penggunaan Library dibatasi hanya untuk penggunaan numpy array. \n",
    "5. Format penulisan nama file di Jupyter notebook: T3_Nama_NIM.ipynb\n",
    "Kumpulkan pada slot yang disediakan di scele. Deadline:.\n",
    "6. Jika dalam menyelesaikan tugas ini anda berkolaborasi dengan orang lain, silahkan dituliskan dengan siapa anda berkolaborasi (pada baris ini)!\n",
    "\n"
   ]
  },
  {
   "cell_type": "markdown",
   "metadata": {
    "colab_type": "text",
    "id": "vuphuxNFo2kY"
   },
   "source": [
    "<b>K-Nearest Neighbor (KNN) (total - poin)</b>"
   ]
  },
  {
   "cell_type": "markdown",
   "metadata": {
    "colab_type": "text",
    "id": "MphVuV2mpPWR"
   },
   "source": [
    "1. <b>[- poin]</b> Lakukan range normalization pada dataset diabetes.\n",
    " \n",
    "2. <b>[- poin]</b> Hitung distance matrix dari dataset dengan menggunakan :\n",
    "\n",
    "    a. Manhattan distance\n",
    "    \n",
    "    b. Euclidean distance\n",
    "    \n",
    "    c. Cosine distance\n",
    "    \n",
    "2. <b>[- poin]</b> Pilihlah 10 data secara acak dari dataset, lakukan proses K-NN untuk menentukan kelas dari data tersebut dengan nilai K = 3, 5, dan 7. Untuk setiap nilai K, bandingkan hasil klasifikasi dengan menggunakan ukuran jarak Manhattan distance, Euclidean distance, dan Cosine distance. Apakah ada perbedaan ? Lakukan analisis singkat"
   ]
  },
  {
   "cell_type": "markdown",
   "metadata": {
    "colab_type": "text",
    "id": "tlwpfbcbo2kl"
   },
   "source": [
    "Jawaban :"
   ]
  },
  {
   "cell_type": "markdown",
   "metadata": {
    "colab_type": "text",
    "id": "5U1w5jRRo2kp"
   },
   "source": [
    "1."
   ]
  },
  {
   "cell_type": "code",
   "execution_count": 1,
   "metadata": {
    "colab": {},
    "colab_type": "code",
    "id": "MphVtoRco2kt"
   },
   "outputs": [
    {
     "name": "stdout",
     "output_type": "stream",
     "text": [
      "Dataset yang sudah dikenakan range normalization memiliki hasil akhir sebagai berikut.\n",
      "a. Nilai minimum sama dengan 0\n",
      "[0.0, 0.0, 0.0, 0.0, 0.0, 0.0, 0.0, 0.0, 0.0]\n",
      "b. Nilai maksimum sama dengan 1\n",
      "[1.0, 1.0, 1.0, 1.0, 1.0, 1.0, 1.0, 1.0, 1.0]\n"
     ]
    }
   ],
   "source": [
    "import numpy as np\n",
    "import os\n",
    "import requests\n",
    "\n",
    "# Dataset metadata\n",
    "dataset_url = \"https://drive.google.com/uc?authuser=0&id=1uxN2XunIHEhtv03dHgM9gE_J8i4QvKzU&export=download\"\n",
    "filename = 'diabetes.csv'\n",
    "columns = ['Pregnancies', 'Glucose', 'BloodPressure', 'SkinThickness', 'Insulin', 'BMI', 'DiabetesPedigreeFunction', 'Age', 'Outcome']\n",
    "\n",
    "# Function\n",
    "\n",
    "def load_dataset():\n",
    "    ## Download and write yeast.data\n",
    "    if not (os.path.exists(filename)):\n",
    "        r = requests.get(dataset_url, allow_redirects=True)\n",
    "        open(filename, 'wb').write(r.content)\n",
    "    \n",
    "    ## Read yeast.data\n",
    "    dataset = np.genfromtxt(filename, delimiter=',', skip_header=1)\n",
    "    return dataset\n",
    "\n",
    "def min_over_cols(data):\n",
    "    return [data[:,i].min() for i in range(data.shape[1])]\n",
    "\n",
    "def max_over_cols(data):\n",
    "    return [data[:,i].max() for i in range(data.shape[1])]\n",
    "\n",
    "def range_normalization(data):\n",
    "    ## Compute range\n",
    "    min_vals = min_over_cols(data)\n",
    "    max_vals = max_over_cols(data)\n",
    "    range_r = [max_vals[i]-min_vals[i] for i in range(data.shape[1])]\n",
    "    \n",
    "    ## Compute normalization\n",
    "    return (data - min_vals)/range_r\n",
    "    \n",
    "# Load dataset, then normalize\n",
    "dataset = load_dataset()\n",
    "normalized = range_normalization(dataset)\n",
    "\n",
    "print(\"Dataset yang sudah dikenakan range normalization memiliki hasil akhir sebagai berikut.\")\n",
    "print(\"a. Nilai minimum sama dengan 0\")\n",
    "print(min_over_cols(normalized))\n",
    "print(\"b. Nilai maksimum sama dengan 1\")\n",
    "print(max_over_cols(normalized))"
   ]
  },
  {
   "cell_type": "markdown",
   "metadata": {
    "colab_type": "text",
    "id": "8ZktDNKGo2k6"
   },
   "source": [
    "2."
   ]
  },
  {
   "cell_type": "code",
   "execution_count": 60,
   "metadata": {
    "colab": {},
    "colab_type": "code",
    "id": "TUyX_42_o2k_"
   },
   "outputs": [
    {
     "name": "stdout",
     "output_type": "stream",
     "text": [
      "[0.35294118 0.74371859 0.59016393 0.35353535 0.         0.50074516\n",
      " 0.23441503 0.48333333]\n",
      "[0.05882353 0.42713568 0.54098361 0.29292929 0.         0.39642325\n",
      " 0.11656704 0.16666667]\n",
      "1.259323517542096\n",
      "0.563800247445251\n"
     ]
    }
   ],
   "source": [
    "# Separate target from data\n",
    "X, y = normalized[:, :-1], normalized[:, -1]\n",
    "\n",
    "# Function\n",
    "def manhattan_distance(v, w):\n",
    "    return np.sum(np.absolute(v-w))\n",
    "\n",
    "def euclidean_distance(v, w):\n",
    "    return np.sqrt(np.sum(np.power(v-w, 2)))\n",
    "\n",
    "def cosine_distance(v, w):\n",
    "    ## norm 2 function\n",
    "    def norm(v):\n",
    "        return np.sqrt(np.sum(np.power(v, 2)))\n",
    "    \n",
    "    \n",
    "    return \n",
    "\n",
    "print(X[0])\n",
    "print(X[1])\n",
    "print(manhattan_distance(X[0], X[1]))\n",
    "print(euclidean_distance(X[0], X[1]))"
   ]
  },
  {
   "cell_type": "markdown",
   "metadata": {
    "colab_type": "text",
    "id": "4Gsmcskmo2lK"
   },
   "source": [
    "3."
   ]
  },
  {
   "cell_type": "code",
   "execution_count": 0,
   "metadata": {
    "colab": {},
    "colab_type": "code",
    "id": "OXddiJa4o2lP"
   },
   "outputs": [],
   "source": []
  },
  {
   "cell_type": "markdown",
   "metadata": {
    "colab_type": "text",
    "id": "gsv9hUr-o2lx"
   },
   "source": [
    "<b>Naive Bayes (total - poin)</b>"
   ]
  },
  {
   "cell_type": "markdown",
   "metadata": {
    "colab_type": "text",
    "id": "hqtJ7EeVo2l0"
   },
   "source": [
    "1. <b>[- poin]</b>  Lakukan klasifikasi pada dataset diabetes yang telah dinormalisasi menggunakan algoritma Naive Bayes. Proporsi pembagian data training dan testing adalah 80:20.\n",
    "2. <b>[- poin]</b> Hitung hasil akurasi.\n",
    "$$accuracy = \\frac{number \\:of \\:true \\:predictions}{number \\:of \\:total \\:predictions}$$ \n",
    "3. <b>[- poin]</b> Carilah correlation coefficient untuk setiap pasang fitur pada dataset diabetes yang telah dinormalisasi.\n",
    "4. <b>[- poin]</b> Hapus fitur-fitur yang saling berkorelasi, lalu lakukan kembali klasifikasi menggunakan algoritma Naive Bayes menggunakan fitur yang tersisa. Bandingkan hasil klasifikasi untuk data train dan data test (menggunakan hasil soal no.2) dari dua skenario tersebut dan berikan analisis mengenai hasil yang diperoleh."
   ]
  },
  {
   "cell_type": "markdown",
   "metadata": {
    "colab_type": "text",
    "id": "FJBeFMtqo2l4"
   },
   "source": [
    "1."
   ]
  },
  {
   "cell_type": "code",
   "execution_count": 0,
   "metadata": {
    "colab": {},
    "colab_type": "code",
    "id": "tM4ejKm_o2l8"
   },
   "outputs": [],
   "source": []
  },
  {
   "cell_type": "markdown",
   "metadata": {
    "colab_type": "text",
    "id": "ZOTELtSAo2mG"
   },
   "source": [
    "2."
   ]
  },
  {
   "cell_type": "code",
   "execution_count": 0,
   "metadata": {
    "colab": {},
    "colab_type": "code",
    "id": "16WW2PKoo2mL"
   },
   "outputs": [],
   "source": []
  },
  {
   "cell_type": "markdown",
   "metadata": {
    "colab_type": "text",
    "id": "206IiaWRo2mS"
   },
   "source": [
    "3."
   ]
  },
  {
   "cell_type": "code",
   "execution_count": 0,
   "metadata": {
    "colab": {},
    "colab_type": "code",
    "id": "iSoivKkMo2mV"
   },
   "outputs": [],
   "source": []
  },
  {
   "cell_type": "markdown",
   "metadata": {
    "colab_type": "text",
    "id": "feePGa-No2mc"
   },
   "source": [
    "4."
   ]
  },
  {
   "cell_type": "code",
   "execution_count": 0,
   "metadata": {
    "colab": {},
    "colab_type": "code",
    "id": "bthwWjzyo2md"
   },
   "outputs": [],
   "source": []
  }
 ],
 "metadata": {
  "colab": {
   "collapsed_sections": [],
   "name": "Tugas 3.ipynb",
   "provenance": []
  },
  "kernelspec": {
   "display_name": "Python 3",
   "language": "python",
   "name": "python3"
  },
  "language_info": {
   "codemirror_mode": {
    "name": "ipython",
    "version": 3
   },
   "file_extension": ".py",
   "mimetype": "text/x-python",
   "name": "python",
   "nbconvert_exporter": "python",
   "pygments_lexer": "ipython3",
   "version": "3.7.1"
  }
 },
 "nbformat": 4,
 "nbformat_minor": 1
}
