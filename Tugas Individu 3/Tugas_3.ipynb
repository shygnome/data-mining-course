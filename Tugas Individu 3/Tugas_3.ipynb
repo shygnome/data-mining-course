{
 "cells": [
  {
   "cell_type": "markdown",
   "metadata": {
    "colab_type": "text",
    "id": "cOgF3m-Oo2kE"
   },
   "source": [
    "<h2><center>Tugas 3 Data Mining 2019/2020</center></h2>"
   ]
  },
  {
   "cell_type": "markdown",
   "metadata": {
    "colab_type": "text",
    "id": "DgqyG8Zyo2kK"
   },
   "source": [
    "<center><font color=\"red\">Deadline: 17 October 2019, 22:00WIB</font><center>\n",
    "\n",
    "---\n",
    "\n",
    "\n",
    "\n"
   ]
  },
  {
   "cell_type": "markdown",
   "metadata": {
    "colab_type": "text",
    "id": "1UCOtummo2kQ"
   },
   "source": [
    "<h4>Nama    :  </h4>\n",
    "<h4>NPM     :  </h4>"
   ]
  },
  {
   "cell_type": "markdown",
   "metadata": {
    "colab_type": "text",
    "id": "gq1mXznao2kV"
   },
   "source": [
    "<b>Petunjuk umum:</b>\n",
    "1. Dataset yang digunakan pada tugas ini merupakan dataset diabetes yang dapat diunduh di https://bit.ly/2M5vioB\n",
    "2. Deskripsi atribut pada dataset dapat dilihat pada halaman tersebut.\n",
    "3. Lakukan pengolahan data dan perhitungan menggunakan bahasa pemrograman 4. Python. Gunakan template Jupyter notebook yang telah disediakan untuk menjawab soal.\n",
    "4. Penggunaan Library dibatasi hanya untuk penggunaan numpy array. \n",
    "5. Format penulisan nama file di Jupyter notebook: T3_Nama_NIM.ipynb\n",
    "Kumpulkan pada slot yang disediakan di scele. Deadline:.\n",
    "6. Jika dalam menyelesaikan tugas ini anda berkolaborasi dengan orang lain, silahkan dituliskan dengan siapa anda berkolaborasi (pada baris ini)!\n",
    "\n"
   ]
  },
  {
   "cell_type": "markdown",
   "metadata": {
    "colab_type": "text",
    "id": "vuphuxNFo2kY"
   },
   "source": [
    "<b>K-Nearest Neighbor (KNN) (total - poin)</b>"
   ]
  },
  {
   "cell_type": "markdown",
   "metadata": {
    "colab_type": "text",
    "id": "MphVuV2mpPWR"
   },
   "source": [
    "1. <b>[- poin]</b> Lakukan range normalization pada dataset diabetes.\n",
    " \n",
    "2. <b>[- poin]</b> Hitung distance matrix dari dataset dengan menggunakan :\n",
    "\n",
    "    a. Manhattan distance\n",
    "    \n",
    "    b. Euclidean distance\n",
    "    \n",
    "    c. Cosine distance\n",
    "    \n",
    "2. <b>[- poin]</b> Pilihlah 10 data secara acak dari dataset, lakukan proses K-NN untuk menentukan kelas dari data tersebut dengan nilai K = 3, 5, dan 7. Untuk setiap nilai K, bandingkan hasil klasifikasi dengan menggunakan ukuran jarak Manhattan distance, Euclidean distance, dan Cosine distance. Apakah ada perbedaan ? Lakukan analisis singkat"
   ]
  },
  {
   "cell_type": "markdown",
   "metadata": {
    "colab_type": "text",
    "id": "tlwpfbcbo2kl"
   },
   "source": [
    "Jawaban :"
   ]
  },
  {
   "cell_type": "markdown",
   "metadata": {
    "colab_type": "text",
    "id": "5U1w5jRRo2kp"
   },
   "source": [
    "1."
   ]
  },
  {
   "cell_type": "code",
   "execution_count": 0,
   "metadata": {
    "colab": {},
    "colab_type": "code",
    "id": "MphVtoRco2kt"
   },
   "outputs": [],
   "source": []
  },
  {
   "cell_type": "markdown",
   "metadata": {
    "colab_type": "text",
    "id": "8ZktDNKGo2k6"
   },
   "source": [
    "2."
   ]
  },
  {
   "cell_type": "code",
   "execution_count": 0,
   "metadata": {
    "colab": {},
    "colab_type": "code",
    "id": "TUyX_42_o2k_"
   },
   "outputs": [],
   "source": []
  },
  {
   "cell_type": "markdown",
   "metadata": {
    "colab_type": "text",
    "id": "4Gsmcskmo2lK"
   },
   "source": [
    "3."
   ]
  },
  {
   "cell_type": "code",
   "execution_count": 0,
   "metadata": {
    "colab": {},
    "colab_type": "code",
    "id": "OXddiJa4o2lP"
   },
   "outputs": [],
   "source": []
  },
  {
   "cell_type": "markdown",
   "metadata": {
    "colab_type": "text",
    "id": "gsv9hUr-o2lx"
   },
   "source": [
    "<b>Naive Bayes (total - poin)</b>"
   ]
  },
  {
   "cell_type": "markdown",
   "metadata": {
    "colab_type": "text",
    "id": "hqtJ7EeVo2l0"
   },
   "source": [
    "1. <b>[- poin]</b>  Lakukan klasifikasi pada dataset diabetes yang telah dinormalisasi menggunakan algoritma Naive Bayes. Proporsi pembagian data training dan testing adalah 80:20.\n",
    "2. <b>[- poin]</b> Hitung hasil akurasi.\n",
    "$$accuracy = \\frac{number \\:of \\:true \\:predictions}{number \\:of \\:total \\:predictions}$$ \n",
    "3. <b>[- poin]</b> Carilah correlation coefficient untuk setiap pasang fitur pada dataset diabetes yang telah dinormalisasi.\n",
    "4. <b>[- poin]</b> Hapus fitur-fitur yang saling berkorelasi, lalu lakukan kembali klasifikasi menggunakan algoritma Naive Bayes menggunakan fitur yang tersisa. Bandingkan hasil klasifikasi untuk data train dan data test (menggunakan hasil soal no.2) dari dua skenario tersebut dan berikan analisis mengenai hasil yang diperoleh."
   ]
  },
  {
   "cell_type": "markdown",
   "metadata": {
    "colab_type": "text",
    "id": "FJBeFMtqo2l4"
   },
   "source": [
    "1."
   ]
  },
  {
   "cell_type": "code",
   "execution_count": 0,
   "metadata": {
    "colab": {},
    "colab_type": "code",
    "id": "tM4ejKm_o2l8"
   },
   "outputs": [],
   "source": []
  },
  {
   "cell_type": "markdown",
   "metadata": {
    "colab_type": "text",
    "id": "ZOTELtSAo2mG"
   },
   "source": [
    "2."
   ]
  },
  {
   "cell_type": "code",
   "execution_count": 0,
   "metadata": {
    "colab": {},
    "colab_type": "code",
    "id": "16WW2PKoo2mL"
   },
   "outputs": [],
   "source": []
  },
  {
   "cell_type": "markdown",
   "metadata": {
    "colab_type": "text",
    "id": "206IiaWRo2mS"
   },
   "source": [
    "3."
   ]
  },
  {
   "cell_type": "code",
   "execution_count": 0,
   "metadata": {
    "colab": {},
    "colab_type": "code",
    "id": "iSoivKkMo2mV"
   },
   "outputs": [],
   "source": []
  },
  {
   "cell_type": "markdown",
   "metadata": {
    "colab_type": "text",
    "id": "feePGa-No2mc"
   },
   "source": [
    "4."
   ]
  },
  {
   "cell_type": "code",
   "execution_count": 0,
   "metadata": {
    "colab": {},
    "colab_type": "code",
    "id": "bthwWjzyo2md"
   },
   "outputs": [],
   "source": []
  }
 ],
 "metadata": {
  "colab": {
   "collapsed_sections": [],
   "name": "Tugas 3.ipynb",
   "provenance": []
  },
  "kernelspec": {
   "display_name": "Python 3",
   "language": "python",
   "name": "python3"
  },
  "language_info": {
   "codemirror_mode": {
    "name": "ipython",
    "version": 3
   },
   "file_extension": ".py",
   "mimetype": "text/x-python",
   "name": "python",
   "nbconvert_exporter": "python",
   "pygments_lexer": "ipython3",
   "version": "3.7.1"
  }
 },
 "nbformat": 4,
 "nbformat_minor": 1
}
